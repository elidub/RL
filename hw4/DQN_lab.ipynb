{
 "cells": [
  {
   "cell_type": "markdown",
   "metadata": {},
   "source": [
    "# Reinforcement Learning - Deep Q Network\n",
    "If you want to test/submit your solution **restart the kernel, run all cells and submit the dqn_autograde.py file into codegrade.**"
   ]
  },
  {
   "cell_type": "code",
   "execution_count": 4,
   "metadata": {},
   "outputs": [],
   "source": [
    "from custommagics import CustomMagics\n",
    "get_ipython().register_magics(CustomMagics)"
   ]
  },
  {
   "cell_type": "code",
   "execution_count": 5,
   "metadata": {},
   "outputs": [
    {
     "name": "stdout",
     "output_type": "stream",
     "text": [
      "Overwriting dqn_autograde.py\n"
     ]
    }
   ],
   "source": [
    "%%execwritefile dqn_autograde.py\n",
    "import numpy as np\n",
    "import random\n",
    "import torch\n",
    "from torch import nn\n",
    "import torch.nn.functional as F\n",
    "from torch import optim\n",
    "from tqdm import tqdm as _tqdm\n",
    "\n",
    "def tqdm(*args, **kwargs):\n",
    "    return _tqdm(*args, **kwargs, mininterval=1)  # Safety, do not overflow buffer"
   ]
  },
  {
   "cell_type": "code",
   "execution_count": 6,
   "metadata": {
    "nbgrader": {
     "grade": false,
     "grade_id": "cell-fc69f22067705372",
     "locked": true,
     "schema_version": 1,
     "solution": false
    }
   },
   "outputs": [],
   "source": [
    "%matplotlib inline\n",
    "import matplotlib.pyplot as plt\n",
    "import sys\n",
    "import time\n",
    "\n",
    "assert sys.version_info[:3] >= (3, 6, 0), \"Make sure you have Python 3.6 installed!\""
   ]
  },
  {
   "cell_type": "markdown",
   "metadata": {
    "nbgrader": {
     "grade": false,
     "grade_id": "cell-fef7e20e54e6243b",
     "locked": true,
     "schema_version": 1,
     "solution": false
    }
   },
   "source": [
    "## 1. Deep Q-Network (DQN)"
   ]
  },
  {
   "cell_type": "code",
   "execution_count": 7,
   "metadata": {
    "nbgrader": {
     "grade": true,
     "grade_id": "cell-39519f4ab05eb2a1",
     "locked": true,
     "points": 0,
     "schema_version": 1,
     "solution": false
    }
   },
   "outputs": [
    {
     "name": "stderr",
     "output_type": "stream",
     "text": [
      "/home/ankur/miniconda3/envs/rlcourse/lib/python3.7/site-packages/gym/envs/registration.py:14: PkgResourcesDeprecationWarning: Parameters to load are deprecated.  Call .resolve and .require separately.\n",
      "  result = entry_point.load(False)\n"
     ]
    }
   ],
   "source": [
    "import gym\n",
    "env = gym.envs.make(\"CartPole-v1\")"
   ]
  },
  {
   "cell_type": "code",
   "execution_count": 8,
   "metadata": {},
   "outputs": [],
   "source": [
    "# env is a TimeLimit wrapper around an env, so use env.env to look into the env (but otherwise you can forget about this)\n",
    "??env.env"
   ]
  },
  {
   "cell_type": "code",
   "execution_count": 9,
   "metadata": {},
   "outputs": [],
   "source": [
    "# # dir(env)\n",
    "# env.reset()\n",
    "# dir(env.step(env.action_space.sample())[0])"
   ]
  },
  {
   "cell_type": "code",
   "execution_count": 10,
   "metadata": {},
   "outputs": [],
   "source": [
    "# The nice thing about the CARTPOLE is that it has very nice rendering functionality (if you are on a local environment). Let's have a look at an episode\n",
    "obs = env.reset()\n",
    "env.render()\n",
    "done = False\n",
    "while not done:\n",
    "    obs, reward, done, _ = env.step(env.action_space.sample())\n",
    "    env.render()\n",
    "    time.sleep(0.05)\n",
    "env.close()  # Close the environment or you will have a lot of render screens soon"
   ]
  },
  {
   "cell_type": "markdown",
   "metadata": {
    "nbgrader": {
     "grade": false,
     "grade_id": "cell-2d83f70e62b99520",
     "locked": true,
     "schema_version": 1,
     "solution": false
    }
   },
   "source": [
    "Remember from the previous lab, that in order to optimize a policy we need to estimate the Q-values (e.g. estimate the *action* values). In the CartPole problem, our state is current position of the cart, the current velocity of the cart, the current (angular) position of the pole and the (angular) speed of the pole. As these are continuous variables, we have an infinite number of states (ignoring the fact that a digital computer can only represent finitely many states in finite memory)."
   ]
  },
  {
   "cell_type": "markdown",
   "metadata": {
    "nbgrader": {
     "grade": false,
     "grade_id": "cell-0b3162496f5e6cf5",
     "locked": true,
     "schema_version": 1,
     "solution": false
    }
   },
   "source": [
    "### 2.1 Implement Q-Network"
   ]
  },
  {
   "cell_type": "markdown",
   "metadata": {
    "nbgrader": {
     "grade": false,
     "grade_id": "cell-96a86bcfa1ebc84a",
     "locked": true,
     "schema_version": 1,
     "solution": false
    }
   },
   "source": [
    "We will not use the tabular approach but approximate the Q-value function by a general approximator function. We will skip the linear case and directly use a two layer Neural Network. We use [PyTorch](https://pytorch.org/) to implement the network, as this will allow us to train it easily later. We can implement a model using `torch.nn.Sequential`, but with PyTorch it is actually very easy to implement the model (e.g. the forward pass) from scratch. Now implement the `QNetwork.forward` function that uses one hidden layer with ReLU activation (no output activation)."
   ]
  },
  {
   "cell_type": "code",
   "execution_count": 11,
   "metadata": {
    "nbgrader": {
     "grade": false,
     "grade_id": "cell-216429a5dccf8a0e",
     "locked": false,
     "schema_version": 1,
     "solution": true
    }
   },
   "outputs": [
    {
     "name": "stdout",
     "output_type": "stream",
     "text": [
      "Appending to dqn_autograde.py\n"
     ]
    }
   ],
   "source": [
    "%%execwritefile -a dqn_autograde.py\n",
    "\n",
    "class QNetwork(nn.Module):\n",
    "    \n",
    "    def __init__(self, num_hidden=128):\n",
    "        nn.Module.__init__(self)\n",
    "        self.l1 = nn.Linear(4, num_hidden)\n",
    "        self.l2 = nn.Linear(num_hidden, 2)\n",
    "\n",
    "    def forward(self, x):\n",
    "        # YOUR CODE HERE\n",
    "        model = torch.nn.Sequential(\n",
    "            self.l1,\n",
    "            nn.ReLU(),\n",
    "            self.l2,\n",
    "        )\n",
    "        return model(x)"
   ]
  },
  {
   "cell_type": "code",
   "execution_count": 12,
   "metadata": {
    "nbgrader": {
     "grade": true,
     "grade_id": "cell-00ce108d640a5942",
     "locked": true,
     "points": 1,
     "schema_version": 1,
     "solution": false
    }
   },
   "outputs": [],
   "source": [
    "# Let's instantiate and test if it works\n",
    "num_hidden = 128\n",
    "torch.manual_seed(1)\n",
    "Q_net = QNetwork(num_hidden)\n",
    "\n",
    "torch.manual_seed(1)\n",
    "test_model = nn.Sequential(\n",
    "    nn.Linear(4, num_hidden), \n",
    "    nn.ReLU(), \n",
    "    nn.Linear(num_hidden, 2)\n",
    ")\n",
    "\n",
    "x = torch.rand(10, 4)\n",
    "\n",
    "# If you do not need backpropagation, wrap the computation in the torch.no_grad() context\n",
    "# This saves time and memory, and PyTorch complaints when converting to numpy\n",
    "with torch.no_grad():\n",
    "    assert np.allclose(Q_net(x).numpy(), test_model(x).numpy())"
   ]
  },
  {
   "cell_type": "markdown",
   "metadata": {
    "nbgrader": {
     "grade": false,
     "grade_id": "cell-ca77eae2e62180cf",
     "locked": true,
     "schema_version": 1,
     "solution": false
    }
   },
   "source": [
    "### 2.2 Experience Replay"
   ]
  },
  {
   "cell_type": "markdown",
   "metadata": {
    "nbgrader": {
     "grade": false,
     "grade_id": "cell-2c1d117a1a75fd69",
     "locked": true,
     "schema_version": 1,
     "solution": false
    }
   },
   "source": [
    "In order to stabilize learning, we will use an experience replay to save states in and sample states from. Now implement the `push` function that adds a transition to the replay buffer, and the `sample` function that samples a (random!) batch of data, for use during training (hint: you can use the function `random.sample`). It should keep at most the maximum number of transitions."
   ]
  },
  {
   "cell_type": "code",
   "execution_count": 13,
   "metadata": {
    "nbgrader": {
     "grade": false,
     "grade_id": "cell-a3cc876e51eb157f",
     "locked": false,
     "schema_version": 1,
     "solution": true
    }
   },
   "outputs": [
    {
     "name": "stdout",
     "output_type": "stream",
     "text": [
      "Appending to dqn_autograde.py\n"
     ]
    }
   ],
   "source": [
    "%%execwritefile -a dqn_autograde.py\n",
    "\n",
    "class ReplayMemory:\n",
    "    \n",
    "    def __init__(self, capacity):\n",
    "        self.capacity = capacity\n",
    "        self.memory = []\n",
    "\n",
    "    def push(self, transition):\n",
    "        # YOUR CODE HERE\n",
    "        self.memory.append(transition)\n",
    "        if len(self.memory) > capacity: self.memory = self.memory[-self.capacity:]\n",
    "        \n",
    "    def sample(self, batch_size):\n",
    "        # YOUR CODE HERE\n",
    "        return random.sample(self.memory, batch_size)\n",
    "\n",
    "    def __len__(self):\n",
    "        return len(self.memory)"
   ]
  },
  {
   "cell_type": "code",
   "execution_count": 14,
   "metadata": {
    "nbgrader": {
     "grade": true,
     "grade_id": "cell-3b90135921c4da76",
     "locked": true,
     "points": 1,
     "schema_version": 1,
     "solution": false
    }
   },
   "outputs": [
    {
     "name": "stdout",
     "output_type": "stream",
     "text": [
      "[(array([ 0.00626136, -0.04149265, -0.00152061,  0.01808672]), 0, 1.0, array([ 0.00543151, -0.23659276, -0.00115888,  0.31028949]), False)]\n"
     ]
    }
   ],
   "source": [
    "capacity = 10\n",
    "memory = ReplayMemory(capacity)\n",
    "\n",
    "# Sample a transition\n",
    "s = env.reset()\n",
    "a = env.action_space.sample()\n",
    "s_next, r, done, _ = env.step(a)\n",
    "\n",
    "# Push a transition\n",
    "memory.push((s, a, r, s_next, done))\n",
    "\n",
    "# Sample a batch size of 1\n",
    "print(memory.sample(1))"
   ]
  },
  {
   "cell_type": "markdown",
   "metadata": {
    "nbgrader": {
     "grade": false,
     "grade_id": "cell-88f67e3c051da6a9",
     "locked": true,
     "schema_version": 1,
     "solution": false
    }
   },
   "source": [
    "### 2.3 $\\epsilon$psilon greedy policy"
   ]
  },
  {
   "cell_type": "markdown",
   "metadata": {
    "nbgrader": {
     "grade": false,
     "grade_id": "cell-aa3c7d1b3000f697",
     "locked": true,
     "schema_version": 1,
     "solution": false
    }
   },
   "source": [
    "In order to learn a good policy, we need to explore quite a bit initially. As we start to learn a good policy, we want to decrease the exploration. As the amount of exploration using an $\\epsilon$-greedy policy is controlled by $\\epsilon$, we can define an 'exploration scheme' by writing $\\epsilon$ as a function of time. There are many possible schemes, but we will use a simple one: we will start with only exploring (so taking random actions) at iteration 0, and then in 1000 iterations linearly anneal $\\epsilon$ such that after 1000 iterations we take random (exploration) actions with 5\\% probability (forever, as you never know if the environment will change)."
   ]
  },
  {
   "cell_type": "code",
   "execution_count": 15,
   "metadata": {
    "nbgrader": {
     "grade": false,
     "grade_id": "cell-5789e7a792108576",
     "locked": false,
     "schema_version": 1,
     "solution": true
    }
   },
   "outputs": [
    {
     "name": "stdout",
     "output_type": "stream",
     "text": [
      "Appending to dqn_autograde.py\n"
     ]
    }
   ],
   "source": [
    "%%execwritefile -a dqn_autograde.py\n",
    "\n",
    "def get_epsilon(it):\n",
    "    # YOUR CODE HERE\n",
    "    EPS_START = 1\n",
    "    EPS_END = 0.05\n",
    "    IT_CONSTANT = 1000\n",
    "    \n",
    "    epsilon = EPS_START + (EPS_END - EPS_START)/IT_CONSTANT * it if it < IT_CONSTANT else EPS_END\n",
    "    \n",
    "    return epsilon"
   ]
  },
  {
   "cell_type": "code",
   "execution_count": 16,
   "metadata": {
    "nbgrader": {
     "grade": true,
     "grade_id": "cell-40e66db45e742b2e",
     "locked": true,
     "points": 1,
     "schema_version": 1,
     "solution": false
    }
   },
   "outputs": [
    {
     "data": {
      "text/plain": [
       "[<matplotlib.lines.Line2D at 0x7fc811335b50>]"
      ]
     },
     "execution_count": 16,
     "metadata": {},
     "output_type": "execute_result"
    },
    {
     "data": {
      "image/png": "[encoded data removed]",
      "text/plain": [
       "<Figure size 432x288 with 1 Axes>"
      ]
     },
     "metadata": {
      "needs_background": "light"
     },
     "output_type": "display_data"
    }
   ],
   "source": [
    "# So what's an easy way to check?\n",
    "plt.plot([get_epsilon(it) for it in range(5000)])"
   ]
  },
  {
   "cell_type": "markdown",
   "metadata": {
    "nbgrader": {
     "grade": false,
     "grade_id": "cell-a8b604c9998c6c3b",
     "locked": true,
     "schema_version": 1,
     "solution": false
    }
   },
   "source": [
    "Now write a function of *EpsilonGreedyPolicy* class. This function takes a state and uses the Q-network to select an ($\\epsilon$-greedy) action. It should return a random action with probability epsilon. Note, you do not need to backpropagate through the model computations, so use `with torch.no_grad():` (see above for example). Note that to convert a PyTorch tensor with only 1 element (0 dimensional) to a simple python scalar (int or float), you can use the '.item()' function."
   ]
  },
  {
   "cell_type": "code",
   "execution_count": 17,
   "metadata": {
    "nbgrader": {
     "grade": false,
     "grade_id": "cell-878ad3a637cfb51c",
     "locked": false,
     "schema_version": 1,
     "solution": true
    }
   },
   "outputs": [
    {
     "name": "stdout",
     "output_type": "stream",
     "text": [
      "Appending to dqn_autograde.py\n"
     ]
    }
   ],
   "source": [
    "%%execwritefile -a dqn_autograde.py\n",
    "\n",
    "class EpsilonGreedyPolicy(object):\n",
    "    \"\"\"\n",
    "    A simple epsilon greedy policy.\n",
    "    \"\"\"\n",
    "    def __init__(self, Q, epsilon):\n",
    "        self.Q = Q\n",
    "        self.epsilon = epsilon\n",
    "    \n",
    "    def sample_action(self, obs):\n",
    "        \"\"\"\n",
    "        This method takes a state as input and returns an action sampled from this policy.  \n",
    "\n",
    "        Args:\n",
    "            obs: current state\n",
    "\n",
    "        Returns:\n",
    "            An action (int).\n",
    "        \"\"\"\n",
    "        \n",
    "        obs = torch.from_numpy(np.array(obs.astype(np.float32)))\n",
    "        \n",
    "        with torch.no_grad():\n",
    "            q = self.Q.forward(obs)\n",
    "        \n",
    "        \n",
    "        greediest_action = np.argmax(q).item()\n",
    "        weights = [(1-self.epsilon)*100.0] + [self.epsilon*100.0/2]*2\n",
    "        \n",
    "        action = random.choices([greediest_action, 0, 1], weights=weights, k = 1)\n",
    "        assert len(action) == 1\n",
    "            \n",
    "        return action[0] # Take only element as integer in stead of list\n",
    "        \n",
    "    def set_epsilon(self, epsilon):\n",
    "        self.epsilon = epsilon"
   ]
  },
  {
   "cell_type": "code",
   "execution_count": 18,
   "metadata": {},
   "outputs": [],
   "source": [
    "## TO DO: why are all initial state values initializes U(-0.05, 0.05)?\n",
    "\n",
    "# states = []\n",
    "# for _ in range(10000):\n",
    "#     s = env.reset()\n",
    "#     states.append(s)\n",
    "# states = np.array(states).T\n",
    "\n",
    "# fig, axes = plt.subplots(1, len(states), figsize = (10, 4))\n",
    "\n",
    "# for ax, state in zip(axes, states):\n",
    "#     ax.hist(state)\n",
    "# plt.show()"
   ]
  },
  {
   "cell_type": "code",
   "execution_count": 19,
   "metadata": {
    "nbgrader": {
     "grade": true,
     "grade_id": "cell-e895338d56bee477",
     "locked": true,
     "points": 1,
     "schema_version": 1,
     "solution": false
    }
   },
   "outputs": [
    {
     "name": "stdout",
     "output_type": "stream",
     "text": [
      "0\n"
     ]
    }
   ],
   "source": [
    "s = env.reset()\n",
    "epg = EpsilonGreedyPolicy(Q_net, 0.05)\n",
    "a = epg.sample_action(s)\n",
    "assert not torch.is_tensor(a)\n",
    "print (a)"
   ]
  },
  {
   "cell_type": "markdown",
   "metadata": {
    "nbgrader": {
     "grade": false,
     "grade_id": "cell-ec5e94e0b03f8aec",
     "locked": true,
     "schema_version": 1,
     "solution": false
    }
   },
   "source": [
    "### 2.4 Training function"
   ]
  },
  {
   "cell_type": "markdown",
   "metadata": {
    "nbgrader": {
     "grade": false,
     "grade_id": "cell-d1a12cc97386fe56",
     "locked": true,
     "schema_version": 1,
     "solution": false
    }
   },
   "source": [
    "Now we will implement the function 'train' that samples a batch from the memory and performs a gradient step using some convenient PyTorch functionality. However, you still need to compute the Q-values for the (state, action) pairs in the experience, as well as their target (e.g. the value they should move towards). What is the target for a Q-learning update? What should be the target if `next_state` is terminal (e.g. `done`)?\n",
    "\n",
    "For computing the Q-values for the actions, note that the model returns all action values where you are only interested in a single action value. Because of the batch dimension, you can't use simple indexing, but you may want to have a look at [torch.gather](https://pytorch.org/docs/stable/torch.html?highlight=gather#torch.gather) or use [advanced indexing](https://docs.scipy.org/doc/numpy-1.13.0/reference/arrays.indexing.html) (numpy tutorial but works mostly the same in PyTorch). Note, you should NOT modify the function train. You can view the size of a tensor `x` with `x.size()` (similar to `x.shape` in numpy)."
   ]
  },
  {
   "cell_type": "code",
   "execution_count": 20,
   "metadata": {
    "nbgrader": {
     "grade": false,
     "grade_id": "cell-6c45485324b40081",
     "locked": false,
     "schema_version": 1,
     "solution": true
    }
   },
   "outputs": [
    {
     "name": "stdout",
     "output_type": "stream",
     "text": [
      "Appending to dqn_autograde.py\n"
     ]
    }
   ],
   "source": [
    "%%execwritefile -a dqn_autograde.py\n",
    "\n",
    "def compute_q_vals(Q, states, actions):\n",
    "    \"\"\"\n",
    "    This method returns Q values for given state action pairs.\n",
    "    \n",
    "    Args:\n",
    "        Q: Q-net\n",
    "        states: a tensor of states. Shape: batch_size x obs_dim\n",
    "        actions: a tensor of actions. Shape: Shape: batch_size x 1\n",
    "\n",
    "    Returns:\n",
    "        A torch tensor filled with Q values. Shape: batch_size x 1.\n",
    "    \"\"\"\n",
    "    # YOUR CODE HERE\n",
    "    q = Q.forward(states)\n",
    "    Q_values = torch.gather(q, 1, actions)    \n",
    "    return Q_values\n",
    "    \n",
    "def compute_targets(Q, rewards, next_states, dones, discount_factor):\n",
    "    \"\"\"\n",
    "    This method returns targets (values towards which Q-values should move).\n",
    "    \n",
    "    Args:\n",
    "        Q: Q-net\n",
    "        rewards: a tensor of rewards. Shape: Shape: batch_size x 1\n",
    "        next_states: a tensor of states. Shape: batch_size x obs_dim\n",
    "        dones: a tensor of boolean done flags (indicates if next_state is terminal) Shape: batch_size x 1\n",
    "        discount_factor: discount\n",
    "    Returns:\n",
    "        A torch tensor filled with target values. Shape: batch_size x 1.\n",
    "    \"\"\"\n",
    "    # YOUR CODE HERE\n",
    "    targets = rewards + discount_factor * torch.max(Q.forward(next_states))\n",
    "#     print(targets.shape)\n",
    "#     print(\"targets shape: \", targets.shape)\n",
    "#     print(\"rewards shape: \", rewards.shape)\n",
    "#     print(\"next_states shape: \", next_states.shape)\n",
    "#     print(\"dones shape: \", dones.shape)\n",
    "    \n",
    "    \n",
    "    tmp = []\n",
    "    for done, target, next_state, reward in zip(dones, targets, next_states, rewards):\n",
    "        if not done:\n",
    "            tmp.append(target)\n",
    "        else:\n",
    "            tmp.append(torch.tensor(reward))\n",
    "#             tmp.append(torch.tensor([0.0]))\n",
    "#             tmp.append(next_state)\n",
    "            \n",
    "    targets = torch.cat(tmp)\n",
    "    targets = targets[:, None]\n",
    "    \n",
    "#     targets = torch.tensor([target  \n",
    "#         for done, target in zip(dones, targets)\n",
    "#     ]).unsqueeze(1)\n",
    "    \n",
    "    \n",
    "#     targets = torch.tensor([\n",
    "#         target if not done else next_state \n",
    "#         for done, target, next_state in zip(dones, targets, next_states)\n",
    "#     ]).unsqueeze(1)\n",
    "\n",
    "#     targets = [\n",
    "#         target if not done else next_state \n",
    "#         for done, target, next_state in zip(dones, targets, next_states)\n",
    "#     ]\n",
    "    \n",
    "#     print(\"final targets shape: \", targets.shape)\n",
    "    \n",
    "    return targets\n",
    "    \n",
    "    \n",
    "    \n",
    "def train(Q, memory, optimizer, batch_size, discount_factor):\n",
    "    # DO NOT MODIFY THIS FUNCTION\n",
    "    \n",
    "    # don't learn without some decent experience\n",
    "    if len(memory) < batch_size:\n",
    "        print('this is not good:', len(memory), batch_size) # REMOVE THIS LINE\n",
    "        return None\n",
    "\n",
    "    # random transition batch is taken from experience replay memory\n",
    "    transitions = memory.sample(batch_size)\n",
    "    \n",
    "    # transition is a list of 4-tuples, instead we want 4 vectors (as torch.Tensor's)\n",
    "    state, action, reward, next_state, done = zip(*transitions)\n",
    "    \n",
    "    # convert to PyTorch and define types\n",
    "    state = torch.tensor(state, dtype=torch.float)\n",
    "    action = torch.tensor(action, dtype=torch.int64)[:, None]  # Need 64 bit to use them as index\n",
    "    next_state = torch.tensor(next_state, dtype=torch.float)\n",
    "    reward = torch.tensor(reward, dtype=torch.float)[:, None]\n",
    "    done = torch.tensor(done, dtype=torch.uint8)[:, None]  # Boolean\n",
    "    \n",
    "    # compute the q value\n",
    "    q_val = compute_q_vals(Q, state, action)\n",
    "    with torch.no_grad():  # Don't compute gradient info for the target (semi-gradient)\n",
    "        target = compute_targets(Q, reward, next_state, done, discount_factor)\n",
    "    \n",
    "    # loss is measured from error between current and newly expected Q values\n",
    "    loss = F.smooth_l1_loss(q_val, target)\n",
    "\n",
    "    # backpropagation of loss to Neural Network (PyTorch magic)\n",
    "    optimizer.zero_grad()\n",
    "    loss.backward()\n",
    "    optimizer.step()\n",
    "    \n",
    "    return loss.item()  # Returns a Python scalar, and releases history (similar to .detach())"
   ]
  },
  {
   "cell_type": "code",
   "execution_count": 21,
   "metadata": {
    "nbgrader": {
     "grade": false,
     "grade_id": "cell-6c45485324b40081",
     "locked": false,
     "schema_version": 1,
     "solution": true
    }
   },
   "outputs": [
    {
     "name": "stdout",
     "output_type": "stream",
     "text": [
      "0.504221498966217\n"
     ]
    },
    {
     "name": "stderr",
     "output_type": "stream",
     "text": [
      "/home/ankur/.local/lib/python3.7/site-packages/ipykernel_launcher.py:88: UserWarning: Creating a tensor from a list of numpy.ndarrays is extremely slow. Please consider converting the list to a single numpy.ndarray with numpy.array() before converting to a tensor. (Triggered internally at  /opt/conda/conda-bld/pytorch_1659484747659/work/torch/csrc/utils/tensor_new.cpp:201.)\n"
     ]
    }
   ],
   "source": [
    "# You may want to test your functions individually, but after you do so lets see if the method train works.\n",
    "batch_size = 64\n",
    "discount_factor = 1.0\n",
    "learn_rate = 1e-3\n",
    "# Simple gradient descent may take long, so we will use Adam\n",
    "optimizer = optim.Adam(Q_net.parameters(), learn_rate)\n",
    "\n",
    "# We need a larger memory, fill with dummy data\n",
    "transition = memory.sample(1)[0]\n",
    "memory = ReplayMemory(10 * batch_size)\n",
    "\n",
    "for i in range(batch_size):\n",
    "    memory.push(transition)\n",
    "\n",
    "# Now let's see if it works\n",
    "loss = train(Q_net, memory, optimizer, batch_size, discount_factor)\n",
    "\n",
    "print(loss)"
   ]
  },
  {
   "cell_type": "markdown",
   "metadata": {
    "nbgrader": {
     "grade": false,
     "grade_id": "cell-3eafd0ab49103f3b",
     "locked": true,
     "schema_version": 1,
     "solution": false
    }
   },
   "source": [
    "### 2.5 Put it all together"
   ]
  },
  {
   "cell_type": "markdown",
   "metadata": {
    "nbgrader": {
     "grade": false,
     "grade_id": "cell-36b8a04b393d8104",
     "locked": true,
     "schema_version": 1,
     "solution": false
    }
   },
   "source": [
    "Now that you have implemented the training step, you should be able to put everything together. Implement the function `run_episodes` that runs a number of episodes of DQN training. It should return the durations (e.g. number of steps) of each episode. Note: we pass the train function as an argument such that we can swap it for a different training step later."
   ]
  },
  {
   "cell_type": "code",
   "execution_count": 22,
   "metadata": {
    "nbgrader": {
     "grade": false,
     "grade_id": "cell-540a7d50ecc1d046",
     "locked": false,
     "schema_version": 1,
     "solution": true
    }
   },
   "outputs": [
    {
     "name": "stdout",
     "output_type": "stream",
     "text": [
      "Appending to dqn_autograde.py\n"
     ]
    }
   ],
   "source": [
    "%%execwritefile -a dqn_autograde.py\n",
    "\n",
    "def run_episodes(train, Q, policy, memory, env, num_episodes, batch_size, discount_factor, learn_rate):\n",
    "    \n",
    "    optimizer = optim.Adam(Q.parameters(), learn_rate)\n",
    "    \n",
    "    global_steps = 0  # Count the steps (do not reset at episode start, to compute epsilon)\n",
    "    episode_durations = []  #\n",
    "    for i in range(num_episodes):\n",
    "        state = env.reset()\n",
    "        \n",
    "        steps = 0\n",
    "        while True:\n",
    "            # YOUR CODE HERE\n",
    "\n",
    "            # We need a larger memory, fill with dummy data\n",
    "#             transition = memory.sample(1)[0]\n",
    "#             memory = ReplayMemory(10 * batch_size)\n",
    "#             for i in range(batch_size):\n",
    "#                 memory.push(transition)  \n",
    "\n",
    "            # Sample a transition\n",
    "            action = policy.sample_action(state)\n",
    "            s_next, r, done, _ = env.step(action)\n",
    "\n",
    "            # Push a transition\n",
    "            memory.push((state, action, r, s_next, done))\n",
    "            \n",
    "            loss = train(Q, memory, optimizer, batch_size, discount_factor)\n",
    "            \n",
    "            \n",
    "            policy.set_epsilon(get_epsilon(i))\n",
    "            \n",
    "            state = s_next\n",
    "\n",
    "            \n",
    "            if done:\n",
    "                if i % 10 == 0:\n",
    "                    print(\"{2} Episode {0} finished after {1} steps\"\n",
    "                          .format(i, steps, '\\033[92m' if steps >= 195 else '\\033[99m'))\n",
    "                episode_durations.append(steps)\n",
    "                #plot_durations()\n",
    "                print(\"loss: \", loss)\n",
    "                break\n",
    "    return episode_durations"
   ]
  },
  {
   "cell_type": "code",
   "execution_count": 23,
   "metadata": {},
   "outputs": [
    {
     "name": "stdout",
     "output_type": "stream",
     "text": [
      "this is not good: 1 64\n",
      "this is not good: 2 64\n",
      "this is not good: 3 64\n",
      "this is not good: 4 64\n",
      "this is not good: 5 64\n",
      "this is not good: 6 64\n",
      "this is not good: 7 64\n",
      "this is not good: 8 64\n",
      "this is not good: 9 64\n",
      "this is not good: 10 64\n",
      "this is not good: 11 64\n",
      "this is not good: 12 64\n",
      "this is not good: 13 64\n",
      "this is not good: 14 64\n",
      "this is not good: 15 64\n",
      "this is not good: 16 64\n",
      "this is not good: 17 64\n",
      "\u001b[99m Episode 0 finished after 0 steps\n",
      "loss:  None\n",
      "this is not good: 18 64\n",
      "this is not good: 19 64\n",
      "this is not good: 20 64\n",
      "this is not good: 21 64\n",
      "this is not good: 22 64\n",
      "this is not good: 23 64\n",
      "this is not good: 24 64\n",
      "this is not good: 25 64\n",
      "this is not good: 26 64\n",
      "this is not good: 27 64\n",
      "this is not good: 28 64\n",
      "this is not good: 29 64\n",
      "this is not good: 30 64\n",
      "this is not good: 31 64\n",
      "this is not good: 32 64\n",
      "this is not good: 33 64\n",
      "loss:  None\n",
      "this is not good: 34 64\n",
      "this is not good: 35 64\n",
      "this is not good: 36 64\n",
      "this is not good: 37 64\n",
      "this is not good: 38 64\n",
      "this is not good: 39 64\n",
      "this is not good: 40 64\n",
      "this is not good: 41 64\n",
      "this is not good: 42 64\n",
      "this is not good: 43 64\n",
      "this is not good: 44 64\n",
      "this is not good: 45 64\n",
      "this is not good: 46 64\n",
      "this is not good: 47 64\n",
      "this is not good: 48 64\n",
      "this is not good: 49 64\n",
      "this is not good: 50 64\n",
      "this is not good: 51 64\n",
      "this is not good: 52 64\n",
      "this is not good: 53 64\n",
      "this is not good: 54 64\n",
      "this is not good: 55 64\n",
      "this is not good: 56 64\n",
      "this is not good: 57 64\n",
      "this is not good: 58 64\n",
      "this is not good: 59 64\n",
      "loss:  None\n",
      "this is not good: 60 64\n",
      "this is not good: 61 64\n",
      "this is not good: 62 64\n",
      "this is not good: 63 64\n",
      "loss:  1.3938267230987549\n",
      "loss:  1.6709586381912231\n",
      "loss:  2.141993761062622\n",
      "loss:  3.1277687549591064\n",
      "loss:  3.1360998153686523\n",
      "loss:  4.4740777015686035\n"
     ]
    },
    {
     "name": "stderr",
     "output_type": "stream",
     "text": [
      "/home/ankur/.local/lib/python3.7/site-packages/ipykernel_launcher.py:45: UserWarning: To copy construct from a tensor, it is recommended to use sourceTensor.clone().detach() or sourceTensor.clone().detach().requires_grad_(True), rather than torch.tensor(sourceTensor).\n"
     ]
    },
    {
     "name": "stdout",
     "output_type": "stream",
     "text": [
      "loss:  7.166462421417236\n",
      "\u001b[99m Episode 10 finished after 0 steps\n",
      "loss:  8.633506774902344\n",
      "loss:  13.332263946533203\n",
      "loss:  13.699241638183594\n",
      "loss:  14.61342716217041\n",
      "loss:  17.97816276550293\n",
      "loss:  19.961748123168945\n",
      "loss:  21.123403549194336\n",
      "loss:  17.666271209716797\n",
      "loss:  20.86216926574707\n",
      "loss:  24.210988998413086\n",
      "\u001b[99m Episode 20 finished after 0 steps\n",
      "loss:  21.84481430053711\n",
      "loss:  29.413068771362305\n",
      "loss:  41.44945526123047\n",
      "loss:  30.340181350708008\n",
      "loss:  29.134157180786133\n",
      "loss:  36.88408279418945\n",
      "loss:  40.02454376220703\n",
      "loss:  31.628555297851562\n",
      "loss:  61.428260803222656\n",
      "loss:  38.486244201660156\n",
      "\u001b[99m Episode 30 finished after 0 steps\n",
      "loss:  53.2180061340332\n",
      "loss:  57.26300048828125\n",
      "loss:  58.3230094909668\n",
      "loss:  50.255714416503906\n",
      "loss:  91.46133422851562\n",
      "loss:  95.09933471679688\n",
      "loss:  66.13337707519531\n",
      "loss:  51.57609939575195\n",
      "loss:  56.50580978393555\n",
      "loss:  71.5320816040039\n",
      "\u001b[99m Episode 40 finished after 0 steps\n",
      "loss:  70.48046875\n",
      "loss:  67.57423400878906\n",
      "loss:  85.24713134765625\n",
      "loss:  82.76162719726562\n",
      "loss:  80.89691925048828\n",
      "loss:  127.42681121826172\n",
      "loss:  89.06574249267578\n",
      "loss:  110.14300537109375\n",
      "loss:  137.3772735595703\n",
      "loss:  148.99029541015625\n",
      "\u001b[99m Episode 50 finished after 0 steps\n",
      "loss:  124.8904800415039\n",
      "loss:  111.34178161621094\n",
      "loss:  186.84861755371094\n",
      "loss:  186.76858520507812\n",
      "loss:  105.63551330566406\n",
      "loss:  116.68876647949219\n",
      "loss:  124.53257751464844\n",
      "loss:  129.7813720703125\n",
      "loss:  160.69708251953125\n",
      "loss:  173.1714630126953\n",
      "\u001b[99m Episode 60 finished after 0 steps\n",
      "loss:  175.84410095214844\n",
      "loss:  185.33822631835938\n",
      "loss:  105.72283935546875\n",
      "loss:  148.88623046875\n",
      "loss:  149.1212615966797\n",
      "loss:  179.50877380371094\n",
      "loss:  253.7076416015625\n",
      "loss:  146.3118133544922\n",
      "loss:  251.33119201660156\n",
      "loss:  192.3861541748047\n",
      "\u001b[99m Episode 70 finished after 0 steps\n",
      "loss:  101.0859146118164\n",
      "loss:  153.86935424804688\n",
      "loss:  299.24200439453125\n",
      "loss:  145.26719665527344\n",
      "loss:  204.93035888671875\n",
      "loss:  170.9930419921875\n",
      "loss:  239.15396118164062\n",
      "loss:  161.33766174316406\n",
      "loss:  253.8059539794922\n",
      "loss:  231.6144561767578\n",
      "\u001b[99m Episode 80 finished after 0 steps\n",
      "loss:  168.36111450195312\n",
      "loss:  294.62469482421875\n",
      "loss:  217.42306518554688\n",
      "loss:  340.45269775390625\n",
      "loss:  269.6852111816406\n",
      "loss:  285.7156982421875\n",
      "loss:  234.52940368652344\n",
      "loss:  297.68658447265625\n",
      "loss:  247.46229553222656\n",
      "loss:  183.8672637939453\n",
      "\u001b[99m Episode 90 finished after 0 steps\n",
      "loss:  229.14678955078125\n",
      "loss:  233.7081756591797\n",
      "loss:  238.45388793945312\n",
      "loss:  361.3675537109375\n",
      "loss:  268.501953125\n",
      "loss:  311.33270263671875\n",
      "loss:  282.8974304199219\n",
      "loss:  599.429443359375\n",
      "loss:  556.8843994140625\n",
      "loss:  487.5576171875\n",
      "\u001b[99m Episode 100 finished after 0 steps\n",
      "loss:  327.4033203125\n",
      "loss:  227.85107421875\n",
      "loss:  447.9687805175781\n",
      "loss:  373.5859680175781\n",
      "loss:  405.0093688964844\n",
      "loss:  317.3002624511719\n",
      "loss:  356.46185302734375\n",
      "loss:  316.9239196777344\n",
      "loss:  284.75482177734375\n",
      "loss:  704.2523803710938\n",
      "\u001b[99m Episode 110 finished after 0 steps\n",
      "loss:  309.80145263671875\n",
      "loss:  293.45513916015625\n",
      "loss:  416.62335205078125\n",
      "loss:  474.5227966308594\n",
      "loss:  564.246826171875\n",
      "loss:  403.74810791015625\n",
      "loss:  316.55474853515625\n",
      "loss:  596.51171875\n",
      "loss:  461.02337646484375\n",
      "loss:  570.4760131835938\n",
      "\u001b[99m Episode 120 finished after 0 steps\n",
      "loss:  351.0651550292969\n",
      "loss:  439.9351501464844\n",
      "loss:  344.68780517578125\n",
      "loss:  438.39202880859375\n",
      "loss:  490.41644287109375\n",
      "loss:  347.6480712890625\n",
      "loss:  533.2196655273438\n",
      "loss:  476.4566650390625\n",
      "loss:  567.6361083984375\n",
      "loss:  581.190673828125\n",
      "\u001b[99m Episode 130 finished after 0 steps\n",
      "loss:  529.4519653320312\n",
      "loss:  591.5218505859375\n",
      "loss:  478.46826171875\n",
      "loss:  439.69927978515625\n",
      "loss:  488.56793212890625\n",
      "loss:  471.9877014160156\n",
      "loss:  450.53448486328125\n",
      "loss:  604.1751708984375\n",
      "loss:  677.9432983398438\n",
      "loss:  627.7257080078125\n",
      "\u001b[99m Episode 140 finished after 0 steps\n",
      "loss:  696.9542236328125\n",
      "loss:  452.15228271484375\n",
      "loss:  718.2291870117188\n",
      "loss:  554.5311889648438\n",
      "loss:  782.06640625\n",
      "loss:  707.8238525390625\n",
      "loss:  405.5488586425781\n",
      "loss:  759.5759887695312\n",
      "loss:  435.8519287109375\n",
      "loss:  724.9179077148438\n",
      "\u001b[99m Episode 150 finished after 0 steps\n",
      "loss:  589.1602783203125\n",
      "loss:  608.7930908203125\n",
      "loss:  544.5599975585938\n",
      "loss:  765.9906005859375\n",
      "loss:  721.3508911132812\n",
      "loss:  438.3504638671875\n",
      "loss:  678.1682739257812\n",
      "loss:  537.8025512695312\n",
      "loss:  612.8714599609375\n",
      "loss:  334.20135498046875\n",
      "\u001b[99m Episode 160 finished after 0 steps\n",
      "loss:  474.6119384765625\n",
      "loss:  885.5917358398438\n",
      "loss:  567.116943359375\n",
      "loss:  672.9735107421875\n",
      "loss:  570.299560546875\n",
      "loss:  445.7408447265625\n",
      "loss:  932.2376098632812\n",
      "loss:  406.1553039550781\n",
      "loss:  380.67242431640625\n",
      "loss:  717.955810546875\n",
      "\u001b[99m Episode 170 finished after 0 steps\n",
      "loss:  876.7138671875\n",
      "loss:  633.4879150390625\n",
      "loss:  640.211181640625\n",
      "loss:  977.763427734375\n",
      "loss:  916.3815307617188\n",
      "loss:  495.7528991699219\n",
      "loss:  852.7213134765625\n",
      "loss:  635.2758178710938\n",
      "loss:  636.4323120117188\n",
      "loss:  475.8956604003906\n",
      "\u001b[99m Episode 180 finished after 0 steps\n",
      "loss:  943.7982177734375\n",
      "loss:  583.9447631835938\n",
      "loss:  892.8819580078125\n",
      "loss:  776.377685546875\n",
      "loss:  580.1641845703125\n",
      "loss:  742.8848876953125\n",
      "loss:  1008.222412109375\n",
      "loss:  832.0411376953125\n",
      "loss:  532.0077514648438\n",
      "loss:  931.1995239257812\n",
      "\u001b[99m Episode 190 finished after 0 steps\n",
      "loss:  222.1396942138672\n",
      "loss:  861.6888427734375\n",
      "loss:  491.4385986328125\n",
      "loss:  849.06689453125\n",
      "loss:  826.8997192382812\n",
      "loss:  579.7747192382812\n",
      "loss:  757.9820556640625\n",
      "loss:  696.9413452148438\n",
      "loss:  973.941650390625\n",
      "loss:  610.6284790039062\n",
      "\u001b[99m Episode 200 finished after 0 steps\n",
      "loss:  803.5816650390625\n",
      "loss:  406.6837463378906\n",
      "loss:  962.6858520507812\n",
      "loss:  963.8599853515625\n",
      "loss:  750.4889526367188\n",
      "loss:  595.8745727539062\n",
      "loss:  625.8756103515625\n",
      "loss:  273.8233642578125\n",
      "loss:  520.6442260742188\n",
      "loss:  463.20599365234375\n",
      "\u001b[99m Episode 210 finished after 0 steps\n",
      "loss:  605.9976806640625\n",
      "loss:  864.2936401367188\n",
      "loss:  839.846923828125\n",
      "loss:  1210.5408935546875\n",
      "loss:  500.4658508300781\n",
      "loss:  1018.4804077148438\n",
      "loss:  284.745361328125\n",
      "loss:  743.0919799804688\n",
      "loss:  174.46820068359375\n",
      "loss:  665.5601196289062\n",
      "\u001b[99m Episode 220 finished after 0 steps\n",
      "loss:  427.5682678222656\n",
      "loss:  1237.2532958984375\n",
      "loss:  509.7651672363281\n",
      "loss:  917.206298828125\n",
      "loss:  581.107666015625\n",
      "loss:  668.5284423828125\n",
      "loss:  689.763671875\n",
      "loss:  180.59288024902344\n",
      "loss:  285.00384521484375\n",
      "loss:  495.44671630859375\n",
      "\u001b[99m Episode 230 finished after 0 steps\n",
      "loss:  543.669677734375\n",
      "loss:  649.093017578125\n",
      "loss:  458.6794738769531\n",
      "loss:  776.6532592773438\n",
      "loss:  251.6548309326172\n",
      "loss:  577.1109619140625\n",
      "loss:  345.7239990234375\n",
      "loss:  613.7108154296875\n",
      "loss:  120.94676971435547\n",
      "loss:  502.3675842285156\n",
      "\u001b[99m Episode 240 finished after 0 steps\n",
      "loss:  184.37277221679688\n",
      "loss:  322.031982421875\n",
      "loss:  1001.2559814453125\n",
      "loss:  370.7117919921875\n",
      "loss:  368.57818603515625\n",
      "loss:  273.9582214355469\n",
      "loss:  324.4306640625\n",
      "loss:  316.03839111328125\n",
      "loss:  462.39080810546875\n",
      "loss:  514.2003173828125\n",
      "\u001b[99m Episode 250 finished after 0 steps\n",
      "loss:  279.12969970703125\n",
      "loss:  692.9480590820312\n",
      "loss:  578.3271484375\n",
      "loss:  468.0314636230469\n",
      "loss:  645.3579711914062\n",
      "loss:  251.10733032226562\n",
      "loss:  407.3133544921875\n",
      "loss:  433.1488037109375\n",
      "loss:  485.22186279296875\n",
      "loss:  767.5062255859375\n",
      "\u001b[99m Episode 260 finished after 0 steps\n",
      "loss:  435.914794921875\n",
      "loss:  570.687744140625\n",
      "loss:  343.38677978515625\n",
      "loss:  324.8629150390625\n",
      "loss:  263.8831787109375\n",
      "loss:  508.4867248535156\n",
      "loss:  462.3214111328125\n",
      "loss:  321.8659362792969\n",
      "loss:  307.1973876953125\n",
      "loss:  323.47119140625\n",
      "\u001b[99m Episode 270 finished after 0 steps\n",
      "loss:  396.8063659667969\n",
      "loss:  157.08993530273438\n",
      "loss:  607.6337890625\n",
      "loss:  209.392333984375\n",
      "loss:  305.3284912109375\n",
      "loss:  203.74278259277344\n",
      "loss:  558.4429321289062\n",
      "loss:  664.2140502929688\n",
      "loss:  502.6175231933594\n",
      "loss:  288.30169677734375\n",
      "\u001b[99m Episode 280 finished after 0 steps\n",
      "loss:  649.5924682617188\n",
      "loss:  495.9754638671875\n",
      "loss:  661.514892578125\n",
      "loss:  326.2098388671875\n",
      "loss:  306.93914794921875\n",
      "loss:  1287.450439453125\n",
      "loss:  511.5824890136719\n",
      "loss:  724.0574340820312\n",
      "loss:  467.2444763183594\n",
      "loss:  280.60980224609375\n",
      "\u001b[99m Episode 290 finished after 0 steps\n",
      "loss:  710.2693481445312\n",
      "loss:  224.08448791503906\n",
      "loss:  441.0656433105469\n",
      "loss:  296.2838134765625\n",
      "loss:  444.265380859375\n",
      "loss:  740.8197631835938\n",
      "loss:  477.7308654785156\n"
     ]
    },
    {
     "name": "stdout",
     "output_type": "stream",
     "text": [
      "loss:  297.6704406738281\n",
      "loss:  320.81573486328125\n",
      "loss:  672.096435546875\n",
      "\u001b[99m Episode 300 finished after 0 steps\n",
      "loss:  435.0005798339844\n",
      "loss:  266.7899475097656\n",
      "loss:  367.95452880859375\n",
      "loss:  387.91436767578125\n",
      "loss:  458.0950622558594\n",
      "loss:  256.05047607421875\n",
      "loss:  513.3512573242188\n",
      "loss:  134.53109741210938\n",
      "loss:  542.9376220703125\n",
      "loss:  296.1340637207031\n",
      "\u001b[99m Episode 310 finished after 0 steps\n",
      "loss:  398.126220703125\n",
      "loss:  474.2445373535156\n",
      "loss:  558.67919921875\n",
      "loss:  348.0591735839844\n",
      "loss:  269.0329895019531\n",
      "loss:  309.1162109375\n",
      "loss:  483.82647705078125\n",
      "loss:  200.93487548828125\n",
      "loss:  534.9276123046875\n",
      "loss:  333.90423583984375\n",
      "\u001b[99m Episode 320 finished after 0 steps\n",
      "loss:  317.39825439453125\n",
      "loss:  676.438720703125\n",
      "loss:  407.8421936035156\n",
      "loss:  389.3530578613281\n",
      "loss:  400.04266357421875\n",
      "loss:  500.77838134765625\n",
      "loss:  361.3794250488281\n",
      "loss:  434.10552978515625\n",
      "loss:  517.962646484375\n",
      "loss:  261.7274475097656\n",
      "\u001b[99m Episode 330 finished after 0 steps\n",
      "loss:  279.61822509765625\n",
      "loss:  415.67559814453125\n",
      "loss:  349.49273681640625\n",
      "loss:  123.15361022949219\n",
      "loss:  173.40512084960938\n",
      "loss:  215.1865997314453\n",
      "loss:  148.38726806640625\n",
      "loss:  191.7955322265625\n",
      "loss:  189.09835815429688\n",
      "loss:  269.5442810058594\n",
      "\u001b[99m Episode 340 finished after 0 steps\n",
      "loss:  626.7079467773438\n",
      "loss:  368.3636169433594\n",
      "loss:  304.3949890136719\n",
      "loss:  249.4053955078125\n",
      "loss:  397.911865234375\n",
      "loss:  256.0120849609375\n",
      "loss:  415.81085205078125\n",
      "loss:  288.19647216796875\n",
      "loss:  249.71310424804688\n",
      "loss:  403.1146545410156\n",
      "\u001b[99m Episode 350 finished after 0 steps\n",
      "loss:  362.34173583984375\n",
      "loss:  315.67822265625\n",
      "loss:  347.38690185546875\n",
      "loss:  369.1817626953125\n",
      "loss:  276.69110107421875\n",
      "loss:  452.74407958984375\n",
      "loss:  201.74850463867188\n",
      "loss:  569.0067138671875\n",
      "loss:  156.49484252929688\n",
      "loss:  465.6501770019531\n",
      "\u001b[99m Episode 360 finished after 0 steps\n",
      "loss:  355.5738220214844\n",
      "loss:  189.91314697265625\n",
      "loss:  185.99850463867188\n",
      "loss:  159.41159057617188\n",
      "loss:  532.8797607421875\n",
      "loss:  163.86553955078125\n",
      "loss:  364.32421875\n",
      "loss:  186.74517822265625\n",
      "loss:  326.49932861328125\n",
      "loss:  380.3606262207031\n",
      "\u001b[99m Episode 370 finished after 0 steps\n",
      "loss:  208.0536651611328\n",
      "loss:  368.296875\n",
      "loss:  277.7530517578125\n",
      "loss:  283.1921081542969\n",
      "loss:  279.2161865234375\n",
      "loss:  305.2857971191406\n",
      "loss:  267.5576171875\n",
      "loss:  321.9713439941406\n",
      "loss:  324.9503479003906\n",
      "loss:  431.7552490234375\n",
      "\u001b[99m Episode 380 finished after 0 steps\n",
      "loss:  309.2814636230469\n",
      "loss:  165.74159240722656\n",
      "loss:  354.1388854980469\n",
      "loss:  411.78594970703125\n",
      "loss:  251.34835815429688\n",
      "loss:  414.065185546875\n",
      "loss:  452.35504150390625\n",
      "loss:  155.5157012939453\n",
      "loss:  211.0574493408203\n",
      "loss:  355.56805419921875\n",
      "\u001b[99m Episode 390 finished after 0 steps\n",
      "loss:  206.90866088867188\n",
      "loss:  192.5740966796875\n",
      "loss:  306.2514343261719\n",
      "loss:  311.06903076171875\n",
      "loss:  381.8267822265625\n",
      "loss:  403.95477294921875\n",
      "loss:  378.0810546875\n",
      "loss:  215.919677734375\n",
      "loss:  417.3689880371094\n",
      "loss:  387.77471923828125\n",
      "\u001b[99m Episode 400 finished after 0 steps\n",
      "loss:  255.6337890625\n",
      "loss:  187.72862243652344\n",
      "loss:  173.96087646484375\n",
      "loss:  324.5137023925781\n",
      "loss:  255.08108520507812\n",
      "loss:  207.53623962402344\n",
      "loss:  282.79827880859375\n",
      "loss:  183.38247680664062\n",
      "loss:  365.49945068359375\n",
      "loss:  154.00022888183594\n",
      "\u001b[99m Episode 410 finished after 0 steps\n",
      "loss:  316.1478271484375\n",
      "loss:  248.5063018798828\n",
      "loss:  157.8392333984375\n",
      "loss:  184.05519104003906\n",
      "loss:  244.5216522216797\n",
      "loss:  161.47288513183594\n",
      "loss:  144.71853637695312\n",
      "loss:  193.08529663085938\n",
      "loss:  219.55210876464844\n",
      "loss:  111.09798431396484\n",
      "\u001b[99m Episode 420 finished after 0 steps\n",
      "loss:  253.55831909179688\n",
      "loss:  176.11866760253906\n",
      "loss:  285.3481750488281\n",
      "loss:  108.02159118652344\n",
      "loss:  253.60382080078125\n",
      "loss:  120.66102600097656\n",
      "loss:  204.1302947998047\n",
      "loss:  223.4530487060547\n",
      "loss:  223.2793731689453\n",
      "loss:  225.85678100585938\n",
      "\u001b[99m Episode 430 finished after 0 steps\n",
      "loss:  152.39120483398438\n",
      "loss:  330.1478271484375\n",
      "loss:  238.76904296875\n",
      "loss:  187.2899932861328\n",
      "loss:  162.8263702392578\n",
      "loss:  174.68072509765625\n",
      "loss:  259.28033447265625\n",
      "loss:  234.59060668945312\n",
      "loss:  158.83523559570312\n",
      "loss:  195.59603881835938\n",
      "\u001b[99m Episode 440 finished after 0 steps\n",
      "loss:  135.233642578125\n",
      "loss:  178.97059631347656\n",
      "loss:  219.90443420410156\n",
      "loss:  188.8001251220703\n",
      "loss:  107.71437072753906\n",
      "loss:  174.08718872070312\n",
      "loss:  83.62238311767578\n",
      "loss:  114.31761169433594\n",
      "loss:  131.26559448242188\n",
      "loss:  103.78788757324219\n",
      "\u001b[99m Episode 450 finished after 0 steps\n",
      "loss:  201.8211212158203\n",
      "loss:  128.1158447265625\n",
      "loss:  107.33079528808594\n",
      "loss:  117.91490173339844\n",
      "loss:  154.946044921875\n",
      "loss:  97.96743774414062\n",
      "loss:  159.49081420898438\n",
      "loss:  127.00243377685547\n",
      "loss:  96.50371551513672\n",
      "loss:  95.99417877197266\n",
      "\u001b[99m Episode 460 finished after 0 steps\n",
      "loss:  100.53951263427734\n",
      "loss:  94.74696350097656\n",
      "loss:  122.82943725585938\n",
      "loss:  87.16398620605469\n",
      "loss:  77.02681732177734\n",
      "loss:  89.92354583740234\n",
      "loss:  78.1446762084961\n",
      "loss:  78.04386138916016\n",
      "loss:  115.51593780517578\n",
      "loss:  84.7237777709961\n",
      "\u001b[99m Episode 470 finished after 0 steps\n",
      "loss:  70.86663055419922\n",
      "loss:  48.52408981323242\n",
      "loss:  70.41614532470703\n",
      "loss:  58.88213348388672\n",
      "loss:  58.12889862060547\n",
      "loss:  63.800045013427734\n",
      "loss:  53.88367462158203\n",
      "loss:  58.191951751708984\n",
      "loss:  44.521568298339844\n",
      "loss:  49.171669006347656\n",
      "\u001b[99m Episode 480 finished after 0 steps\n",
      "loss:  47.234619140625\n",
      "loss:  37.88867950439453\n",
      "loss:  66.89453887939453\n",
      "loss:  40.448486328125\n",
      "loss:  48.25795364379883\n",
      "loss:  44.918922424316406\n",
      "loss:  21.0808048248291\n",
      "loss:  46.57920837402344\n",
      "loss:  38.695735931396484\n",
      "loss:  32.25674819946289\n",
      "\u001b[99m Episode 490 finished after 0 steps\n",
      "loss:  28.29019546508789\n",
      "loss:  32.477108001708984\n",
      "loss:  24.956174850463867\n",
      "loss:  39.29240798950195\n",
      "loss:  22.81913185119629\n",
      "loss:  20.333932876586914\n",
      "loss:  15.120137214660645\n",
      "loss:  15.86418342590332\n",
      "loss:  24.380300521850586\n",
      "loss:  16.03085708618164\n"
     ]
    }
   ],
   "source": [
    "# Let's run it!\n",
    "num_episodes = 500\n",
    "batch_size = 64\n",
    "discount_factor = 0.8\n",
    "learn_rate = 1e-3\n",
    "memory = ReplayMemory(10000)\n",
    "num_hidden = 128\n",
    "seed = 42  # This is not randomly chosen\n",
    "\n",
    "# We will seed the algorithm (before initializing QNetwork!) for reproducibility\n",
    "random.seed(seed)\n",
    "torch.manual_seed(seed)\n",
    "env.seed(seed)\n",
    "\n",
    "Q_net = QNetwork(num_hidden)\n",
    "policy = EpsilonGreedyPolicy(Q_net, 0.05)\n",
    "episode_durations = run_episodes(train, Q_net, policy, memory, env, num_episodes, batch_size, discount_factor, learn_rate)"
   ]
  },
  {
   "cell_type": "code",
   "execution_count": 21,
   "metadata": {
    "nbgrader": {
     "grade": true,
     "grade_id": "cell-928ecc11ed5c43d8",
     "locked": true,
     "points": 2,
     "schema_version": 1,
     "solution": false
    }
   },
   "outputs": [
    {
     "data": {
      "text/plain": [
       "Text(0.5, 1.0, 'Episode durations per episode')"
      ]
     },
     "execution_count": 21,
     "metadata": {},
     "output_type": "execute_result"
    },
    {
     "data": {
      "image/png": "[encoded data removed]",
      "text/plain": [
       "<Figure size 432x288 with 1 Axes>"
      ]
     },
     "metadata": {
      "needs_background": "light"
     },
     "output_type": "display_data"
    }
   ],
   "source": [
    "# And see the results\n",
    "def smooth(x, N):\n",
    "    cumsum = np.cumsum(np.insert(x, 0, 0)) \n",
    "    return (cumsum[N:] - cumsum[:-N]) / float(N)\n",
    "\n",
    "plt.plot(smooth(episode_durations, 10))\n",
    "plt.title('Episode durations per episode')"
   ]
  },
  {
   "cell_type": "markdown",
   "metadata": {},
   "source": [
    "If you want to test/submit your solution **restart the kernel, run all cells and submit the dqn_autograde.py file into codegrade.**"
   ]
  },
  {
   "cell_type": "code",
   "execution_count": null,
   "metadata": {},
   "outputs": [],
   "source": []
  },
  {
   "cell_type": "code",
   "execution_count": null,
   "metadata": {},
   "outputs": [],
   "source": []
  }
 ],
 "metadata": {
  "celltoolbar": "Create Assignment",
  "kernelspec": {
   "display_name": "Python 3 (ipykernel)",
   "language": "python",
   "name": "python3"
  },
  "language_info": {
   "codemirror_mode": {
    "name": "ipython",
    "version": 3
   },
   "file_extension": ".py",
   "mimetype": "text/x-python",
   "name": "python",
   "nbconvert_exporter": "python",
   "pygments_lexer": "ipython3",
   "version": "3.7.13"
  }
 },
 "nbformat": 4,
 "nbformat_minor": 2
}
