{
 "cells": [
  {
   "cell_type": "markdown",
   "metadata": {},
   "source": [
    "# Reinforcement Learning - Deep Q Network\n",
    "If you want to test/submit your solution **restart the kernel, run all cells and submit the dqn_autograde.py file into codegrade.**"
   ]
  },
  {
   "cell_type": "code",
   "execution_count": 1,
   "metadata": {},
   "outputs": [],
   "source": [
    "from custommagics import CustomMagics\n",
    "get_ipython().register_magics(CustomMagics)"
   ]
  },
  {
   "cell_type": "code",
   "execution_count": 2,
   "metadata": {},
   "outputs": [
    {
     "name": "stdout",
     "output_type": "stream",
     "text": [
      "Overwriting dqn_autograde.py\n"
     ]
    }
   ],
   "source": [
    "%%execwritefile dqn_autograde.py\n",
    "import numpy as np\n",
    "import random\n",
    "import torch\n",
    "from torch import nn\n",
    "import torch.nn.functional as F\n",
    "from torch import optim\n",
    "from tqdm import tqdm as _tqdm\n",
    "\n",
    "def tqdm(*args, **kwargs):\n",
    "    return _tqdm(*args, **kwargs, mininterval=1)  # Safety, do not overflow buffer"
   ]
  },
  {
   "cell_type": "code",
   "execution_count": 3,
   "metadata": {
    "nbgrader": {
     "grade": false,
     "grade_id": "cell-fc69f22067705372",
     "locked": true,
     "schema_version": 1,
     "solution": false
    }
   },
   "outputs": [],
   "source": [
    "%matplotlib inline\n",
    "import matplotlib.pyplot as plt\n",
    "import sys\n",
    "import time\n",
    "\n",
    "assert sys.version_info[:3] >= (3, 6, 0), \"Make sure you have Python 3.6 installed!\""
   ]
  },
  {
   "cell_type": "markdown",
   "metadata": {
    "nbgrader": {
     "grade": false,
     "grade_id": "cell-fef7e20e54e6243b",
     "locked": true,
     "schema_version": 1,
     "solution": false
    }
   },
   "source": [
    "## 1. Deep Q-Network (DQN)"
   ]
  },
  {
   "cell_type": "code",
   "execution_count": 4,
   "metadata": {
    "nbgrader": {
     "grade": true,
     "grade_id": "cell-39519f4ab05eb2a1",
     "locked": true,
     "points": 0,
     "schema_version": 1,
     "solution": false
    }
   },
   "outputs": [
    {
     "name": "stderr",
     "output_type": "stream",
     "text": [
      "C:\\Users\\Elias Dubbeldam\\anaconda3\\envs\\rlcourse\\lib\\site-packages\\gym\\envs\\registration.py:14: PkgResourcesDeprecationWarning: Parameters to load are deprecated.  Call .resolve and .require separately.\n",
      "  result = entry_point.load(False)\n"
     ]
    }
   ],
   "source": [
    "import gym\n",
    "env = gym.envs.make(\"CartPole-v1\")"
   ]
  },
  {
   "cell_type": "code",
   "execution_count": 5,
   "metadata": {},
   "outputs": [],
   "source": [
    "# env is a TimeLimit wrapper around an env, so use env.env to look into the env (but otherwise you can forget about this)\n",
    "??env.env"
   ]
  },
  {
   "cell_type": "code",
   "execution_count": 6,
   "metadata": {},
   "outputs": [],
   "source": [
    "# # dir(env)\n",
    "# env.reset()\n",
    "# dir(env.step(env.action_space.sample())[0])"
   ]
  },
  {
   "cell_type": "code",
   "execution_count": 7,
   "metadata": {},
   "outputs": [],
   "source": [
    "# The nice thing about the CARTPOLE is that it has very nice rendering functionality (if you are on a local environment). Let's have a look at an episode\n",
    "obs = env.reset()\n",
    "env.render()\n",
    "done = False\n",
    "while not done:\n",
    "    obs, reward, done, _ = env.step(env.action_space.sample())\n",
    "    env.render()\n",
    "    time.sleep(0.05)\n",
    "env.close()  # Close the environment or you will have a lot of render screens soon"
   ]
  },
  {
   "cell_type": "markdown",
   "metadata": {
    "nbgrader": {
     "grade": false,
     "grade_id": "cell-2d83f70e62b99520",
     "locked": true,
     "schema_version": 1,
     "solution": false
    }
   },
   "source": [
    "Remember from the previous lab, that in order to optimize a policy we need to estimate the Q-values (e.g. estimate the *action* values). In the CartPole problem, our state is current position of the cart, the current velocity of the cart, the current (angular) position of the pole and the (angular) speed of the pole. As these are continuous variables, we have an infinite number of states (ignoring the fact that a digital computer can only represent finitely many states in finite memory)."
   ]
  },
  {
   "cell_type": "markdown",
   "metadata": {
    "nbgrader": {
     "grade": false,
     "grade_id": "cell-0b3162496f5e6cf5",
     "locked": true,
     "schema_version": 1,
     "solution": false
    }
   },
   "source": [
    "### 2.1 Implement Q-Network"
   ]
  },
  {
   "cell_type": "markdown",
   "metadata": {
    "nbgrader": {
     "grade": false,
     "grade_id": "cell-96a86bcfa1ebc84a",
     "locked": true,
     "schema_version": 1,
     "solution": false
    }
   },
   "source": [
    "We will not use the tabular approach but approximate the Q-value function by a general approximator function. We will skip the linear case and directly use a two layer Neural Network. We use [PyTorch](https://pytorch.org/) to implement the network, as this will allow us to train it easily later. We can implement a model using `torch.nn.Sequential`, but with PyTorch it is actually very easy to implement the model (e.g. the forward pass) from scratch. Now implement the `QNetwork.forward` function that uses one hidden layer with ReLU activation (no output activation)."
   ]
  },
  {
   "cell_type": "code",
   "execution_count": 8,
   "metadata": {
    "nbgrader": {
     "grade": false,
     "grade_id": "cell-216429a5dccf8a0e",
     "locked": false,
     "schema_version": 1,
     "solution": true
    }
   },
   "outputs": [
    {
     "name": "stdout",
     "output_type": "stream",
     "text": [
      "Appending to dqn_autograde.py\n"
     ]
    }
   ],
   "source": [
    "%%execwritefile -a dqn_autograde.py\n",
    "\n",
    "class QNetwork(nn.Module):\n",
    "    \n",
    "    def __init__(self, num_hidden=128):\n",
    "        nn.Module.__init__(self)\n",
    "        self.l1 = nn.Linear(4, num_hidden)\n",
    "        self.l2 = nn.Linear(num_hidden, 2)\n",
    "\n",
    "    def forward(self, x):\n",
    "        # YOUR CODE HERE\n",
    "        model = torch.nn.Sequential(\n",
    "            self.l1,\n",
    "            nn.ReLU(),\n",
    "            self.l2,\n",
    "        )\n",
    "        return model(x)"
   ]
  },
  {
   "cell_type": "code",
   "execution_count": 9,
   "metadata": {
    "nbgrader": {
     "grade": true,
     "grade_id": "cell-00ce108d640a5942",
     "locked": true,
     "points": 1,
     "schema_version": 1,
     "solution": false
    }
   },
   "outputs": [],
   "source": [
    "# Let's instantiate and test if it works\n",
    "num_hidden = 128\n",
    "torch.manual_seed(1)\n",
    "Q_net = QNetwork(num_hidden)\n",
    "\n",
    "torch.manual_seed(1)\n",
    "test_model = nn.Sequential(\n",
    "    nn.Linear(4, num_hidden), \n",
    "    nn.ReLU(), \n",
    "    nn.Linear(num_hidden, 2)\n",
    ")\n",
    "\n",
    "x = torch.rand(10, 4)\n",
    "\n",
    "# If you do not need backpropagation, wrap the computation in the torch.no_grad() context\n",
    "# This saves time and memory, and PyTorch complaints when converting to numpy\n",
    "with torch.no_grad():\n",
    "    assert np.allclose(Q_net(x).numpy(), test_model(x).numpy())"
   ]
  },
  {
   "cell_type": "markdown",
   "metadata": {
    "nbgrader": {
     "grade": false,
     "grade_id": "cell-ca77eae2e62180cf",
     "locked": true,
     "schema_version": 1,
     "solution": false
    }
   },
   "source": [
    "### 2.2 Experience Replay"
   ]
  },
  {
   "cell_type": "markdown",
   "metadata": {
    "nbgrader": {
     "grade": false,
     "grade_id": "cell-2c1d117a1a75fd69",
     "locked": true,
     "schema_version": 1,
     "solution": false
    }
   },
   "source": [
    "In order to stabilize learning, we will use an experience replay to save states in and sample states from. Now implement the `push` function that adds a transition to the replay buffer, and the `sample` function that samples a (random!) batch of data, for use during training (hint: you can use the function `random.sample`). It should keep at most the maximum number of transitions."
   ]
  },
  {
   "cell_type": "code",
   "execution_count": 10,
   "metadata": {
    "nbgrader": {
     "grade": false,
     "grade_id": "cell-a3cc876e51eb157f",
     "locked": false,
     "schema_version": 1,
     "solution": true
    }
   },
   "outputs": [
    {
     "name": "stdout",
     "output_type": "stream",
     "text": [
      "Appending to dqn_autograde.py\n"
     ]
    }
   ],
   "source": [
    "%%execwritefile -a dqn_autograde.py\n",
    "\n",
    "class ReplayMemory:\n",
    "    \n",
    "    def __init__(self, capacity):\n",
    "        self.capacity = capacity\n",
    "        self.memory = []\n",
    "\n",
    "    def push(self, transition):\n",
    "        # YOUR CODE HERE\n",
    "        self.memory.append(transition)\n",
    "        if len(self.memory) > self.capacity: self.memory = self.memory[-self.capacity:]\n",
    "        \n",
    "    def sample(self, batch_size):\n",
    "        # YOUR CODE HERE\n",
    "        return random.sample(self.memory, batch_size)\n",
    "\n",
    "    def __len__(self):\n",
    "        return len(self.memory)"
   ]
  },
  {
   "cell_type": "code",
   "execution_count": 11,
   "metadata": {
    "nbgrader": {
     "grade": true,
     "grade_id": "cell-3b90135921c4da76",
     "locked": true,
     "points": 1,
     "schema_version": 1,
     "solution": false
    }
   },
   "outputs": [
    {
     "name": "stdout",
     "output_type": "stream",
     "text": [
      "[(array([-0.04529371,  0.0082778 ,  0.0093417 , -0.04792792]), 0, 1.0, array([-0.04512816, -0.18697685,  0.00838315,  0.24768769]), False)]\n"
     ]
    }
   ],
   "source": [
    "capacity = 10\n",
    "memory = ReplayMemory(capacity)\n",
    "\n",
    "# Sample a transition\n",
    "s = env.reset()\n",
    "a = env.action_space.sample()\n",
    "s_next, r, done, _ = env.step(a)\n",
    "\n",
    "# Push a transition\n",
    "memory.push((s, a, r, s_next, done))\n",
    "\n",
    "# Sample a batch size of 1\n",
    "print(memory.sample(1))"
   ]
  },
  {
   "cell_type": "markdown",
   "metadata": {
    "nbgrader": {
     "grade": false,
     "grade_id": "cell-88f67e3c051da6a9",
     "locked": true,
     "schema_version": 1,
     "solution": false
    }
   },
   "source": [
    "### 2.3 $\\epsilon$psilon greedy policy"
   ]
  },
  {
   "cell_type": "markdown",
   "metadata": {
    "nbgrader": {
     "grade": false,
     "grade_id": "cell-aa3c7d1b3000f697",
     "locked": true,
     "schema_version": 1,
     "solution": false
    }
   },
   "source": [
    "In order to learn a good policy, we need to explore quite a bit initially. As we start to learn a good policy, we want to decrease the exploration. As the amount of exploration using an $\\epsilon$-greedy policy is controlled by $\\epsilon$, we can define an 'exploration scheme' by writing $\\epsilon$ as a function of time. There are many possible schemes, but we will use a simple one: we will start with only exploring (so taking random actions) at iteration 0, and then in 1000 iterations linearly anneal $\\epsilon$ such that after 1000 iterations we take random (exploration) actions with 5\\% probability (forever, as you never know if the environment will change)."
   ]
  },
  {
   "cell_type": "code",
   "execution_count": 12,
   "metadata": {
    "nbgrader": {
     "grade": false,
     "grade_id": "cell-5789e7a792108576",
     "locked": false,
     "schema_version": 1,
     "solution": true
    }
   },
   "outputs": [
    {
     "name": "stdout",
     "output_type": "stream",
     "text": [
      "Appending to dqn_autograde.py\n"
     ]
    }
   ],
   "source": [
    "%%execwritefile -a dqn_autograde.py\n",
    "\n",
    "def get_epsilon(it):\n",
    "    # YOUR CODE HERE\n",
    "    EPS_START = 1\n",
    "    EPS_END = 0.05\n",
    "    IT_CONSTANT = 1000\n",
    "    \n",
    "    epsilon = EPS_START + (EPS_END - EPS_START)/IT_CONSTANT * it if it < IT_CONSTANT else EPS_END\n",
    "    \n",
    "    return epsilon"
   ]
  },
  {
   "cell_type": "code",
   "execution_count": 13,
   "metadata": {
    "nbgrader": {
     "grade": true,
     "grade_id": "cell-40e66db45e742b2e",
     "locked": true,
     "points": 1,
     "schema_version": 1,
     "solution": false
    }
   },
   "outputs": [
    {
     "data": {
      "text/plain": [
       "[<matplotlib.lines.Line2D at 0x29f5c5de7c8>]"
      ]
     },
     "execution_count": 13,
     "metadata": {},
     "output_type": "execute_result"
    },
    {
     "data": {
      "image/png": "[encoded data removed]",
      "text/plain": [
       "<Figure size 640x480 with 1 Axes>"
      ]
     },
     "metadata": {},
     "output_type": "display_data"
    }
   ],
   "source": [
    "# So what's an easy way to check?\n",
    "plt.plot([get_epsilon(it) for it in range(5000)])"
   ]
  },
  {
   "cell_type": "markdown",
   "metadata": {
    "nbgrader": {
     "grade": false,
     "grade_id": "cell-a8b604c9998c6c3b",
     "locked": true,
     "schema_version": 1,
     "solution": false
    }
   },
   "source": [
    "Now write a function of *EpsilonGreedyPolicy* class. This function takes a state and uses the Q-network to select an ($\\epsilon$-greedy) action. It should return a random action with probability epsilon. Note, you do not need to backpropagate through the model computations, so use `with torch.no_grad():` (see above for example). Note that to convert a PyTorch tensor with only 1 element (0 dimensional) to a simple python scalar (int or float), you can use the '.item()' function."
   ]
  },
  {
   "cell_type": "code",
   "execution_count": 14,
   "metadata": {
    "nbgrader": {
     "grade": false,
     "grade_id": "cell-878ad3a637cfb51c",
     "locked": false,
     "schema_version": 1,
     "solution": true
    }
   },
   "outputs": [
    {
     "name": "stdout",
     "output_type": "stream",
     "text": [
      "Appending to dqn_autograde.py\n"
     ]
    }
   ],
   "source": [
    "%%execwritefile -a dqn_autograde.py\n",
    "\n",
    "class EpsilonGreedyPolicy(object):\n",
    "    \"\"\"\n",
    "    A simple epsilon greedy policy.\n",
    "    \"\"\"\n",
    "    def __init__(self, Q, epsilon):\n",
    "        self.Q = Q\n",
    "        self.epsilon = epsilon\n",
    "    \n",
    "    def sample_action(self, obs):\n",
    "        \"\"\"\n",
    "        This method takes a state as input and returns an action sampled from this policy.  \n",
    "\n",
    "        Args:\n",
    "            obs: current state\n",
    "\n",
    "        Returns:\n",
    "            An action (int).\n",
    "        \"\"\"\n",
    "        \n",
    "        obs = torch.from_numpy(np.array(obs.astype(np.float32)))\n",
    "        \n",
    "        with torch.no_grad():\n",
    "            q = self.Q.forward(obs)\n",
    "        \n",
    "        \n",
    "        greediest_action = np.argmax(q).item()\n",
    "        weights = [(1-self.epsilon)*100.0] + [self.epsilon*100.0/2]*2\n",
    "        \n",
    "        action = random.choices([greediest_action, 0, 1], weights=weights, k = 1)\n",
    "        assert len(action) == 1\n",
    "            \n",
    "        return action[0] # Take only element as integer in stead of list\n",
    "        \n",
    "    def set_epsilon(self, epsilon):\n",
    "        self.epsilon = epsilon"
   ]
  },
  {
   "cell_type": "code",
   "execution_count": 15,
   "metadata": {},
   "outputs": [],
   "source": [
    "## TO DO: why are all initial state values initializes U(-0.05, 0.05)?\n",
    "\n",
    "# states = []\n",
    "# for _ in range(10000):\n",
    "#     s = env.reset()\n",
    "#     states.append(s)\n",
    "# states = np.array(states).T\n",
    "\n",
    "# fig, axes = plt.subplots(1, len(states), figsize = (10, 4))\n",
    "\n",
    "# for ax, state in zip(axes, states):\n",
    "#     ax.hist(state)\n",
    "# plt.show()"
   ]
  },
  {
   "cell_type": "code",
   "execution_count": 16,
   "metadata": {
    "nbgrader": {
     "grade": true,
     "grade_id": "cell-e895338d56bee477",
     "locked": true,
     "points": 1,
     "schema_version": 1,
     "solution": false
    }
   },
   "outputs": [
    {
     "name": "stdout",
     "output_type": "stream",
     "text": [
      "0\n"
     ]
    }
   ],
   "source": [
    "s = env.reset()\n",
    "epg = EpsilonGreedyPolicy(Q_net, 0.05)\n",
    "a = epg.sample_action(s)\n",
    "assert not torch.is_tensor(a)\n",
    "print (a)"
   ]
  },
  {
   "cell_type": "markdown",
   "metadata": {
    "nbgrader": {
     "grade": false,
     "grade_id": "cell-ec5e94e0b03f8aec",
     "locked": true,
     "schema_version": 1,
     "solution": false
    }
   },
   "source": [
    "### 2.4 Training function"
   ]
  },
  {
   "cell_type": "markdown",
   "metadata": {
    "nbgrader": {
     "grade": false,
     "grade_id": "cell-d1a12cc97386fe56",
     "locked": true,
     "schema_version": 1,
     "solution": false
    }
   },
   "source": [
    "Now we will implement the function 'train' that samples a batch from the memory and performs a gradient step using some convenient PyTorch functionality. However, you still need to compute the Q-values for the (state, action) pairs in the experience, as well as their target (e.g. the value they should move towards). What is the target for a Q-learning update? What should be the target if `next_state` is terminal (e.g. `done`)?\n",
    "\n",
    "For computing the Q-values for the actions, note that the model returns all action values where you are only interested in a single action value. Because of the batch dimension, you can't use simple indexing, but you may want to have a look at [torch.gather](https://pytorch.org/docs/stable/torch.html?highlight=gather#torch.gather) or use [advanced indexing](https://docs.scipy.org/doc/numpy-1.13.0/reference/arrays.indexing.html) (numpy tutorial but works mostly the same in PyTorch). Note, you should NOT modify the function train. You can view the size of a tensor `x` with `x.size()` (similar to `x.shape` in numpy)."
   ]
  },
  {
   "cell_type": "code",
   "execution_count": 17,
   "metadata": {
    "nbgrader": {
     "grade": false,
     "grade_id": "cell-6c45485324b40081",
     "locked": false,
     "schema_version": 1,
     "solution": true
    }
   },
   "outputs": [
    {
     "name": "stdout",
     "output_type": "stream",
     "text": [
      "Appending to dqn_autograde.py\n"
     ]
    }
   ],
   "source": [
    "%%execwritefile -a dqn_autograde.py\n",
    "\n",
    "def compute_q_vals(Q, states, actions):\n",
    "    \"\"\"\n",
    "    This method returns Q values for given state action pairs.\n",
    "    \n",
    "    Args:\n",
    "        Q: Q-net\n",
    "        states: a tensor of states. Shape: batch_size x obs_dim\n",
    "        actions: a tensor of actions. Shape: Shape: batch_size x 1\n",
    "\n",
    "    Returns:\n",
    "        A torch tensor filled with Q values. Shape: batch_size x 1.\n",
    "    \"\"\"\n",
    "    # YOUR CODE HERE\n",
    "    q = Q.forward(states)\n",
    "    Q_values = torch.gather(q, 1, actions)    \n",
    "    return Q_values\n",
    "    \n",
    "def compute_targets(Q, rewards, next_states, dones, discount_factor):\n",
    "    \"\"\"\n",
    "    This method returns targets (values towards which Q-values should move).\n",
    "    \n",
    "    Args:\n",
    "        Q: Q-net\n",
    "        rewards: a tensor of rewards. Shape: Shape: batch_size x 1\n",
    "        next_states: a tensor of states. Shape: batch_size x obs_dim\n",
    "        dones: a tensor of boolean done flags (indicates if next_state is terminal) Shape: batch_size x 1\n",
    "        discount_factor: discount\n",
    "    Returns:\n",
    "        A torch tensor filled with target values. Shape: batch_size x 1.\n",
    "    \"\"\"\n",
    "#     print('NEW COMPUTE TARGETS')\n",
    "    # YOUR CODE HERE\n",
    "#     print(rewards.shape)\n",
    "#     x = \n",
    "#     print(torch.max(Q.forward(next_states), keepdim = True, dim = 1).values.shape)\n",
    "#     print(torch.max(Q.forward(next_states), dim = 1))\n",
    "    \n",
    "    targets = rewards + discount_factor * torch.max(Q.forward(next_states), keepdim = True, dim = 1).values\n",
    "#     print(targets.shape)\n",
    "#     print(\"targets shape: \", targets.shape)\n",
    "#     print(\"rewards shape: \", rewards.shape, rewards)\n",
    "#     print(\"next_states shape: \", next_states.shape, next_states)\n",
    "#     print(\"dones shape: \", dones.shape, dones)\n",
    "    all_zeros = (dones.flatten() == 0.).all().item()\n",
    "    \n",
    "#     if not all_zeros:\n",
    "#         print('HEY')\n",
    "#         print(dones)\n",
    "    \n",
    "    tmp = []\n",
    "    for done, target, next_state, reward in zip(dones, targets, next_states, rewards):\n",
    "        if not done:\n",
    "#             target = reward + discount_factor * torch.max(Q.forward(next_state))\n",
    "            tmp.append(target)\n",
    "#             print('if  not done', target)\n",
    "        else:\n",
    "            tmp.append(torch.tensor(reward))\n",
    "#             print('else', tmp)\n",
    "\n",
    "#     if not all_zeros:\n",
    "#         print('tmp', tmp)\n",
    "    \n",
    "    targets = torch.cat(tmp)\n",
    "    targets = targets[:, None]\n",
    "    \n",
    "    all_zeros_2 = (targets == rewards).any().item()\n",
    "    \n",
    "    if all_zeros_2 == all_zeros:\n",
    "        print('staph')\n",
    "    \n",
    "    \n",
    "#     targets = torch.tensor([target  \n",
    "#         for done, target in zip(dones, targets)\n",
    "#     ]).unsqueeze(1)\n",
    "    \n",
    "    \n",
    "#     targets = torch.tensor([\n",
    "#         target if not done else next_state \n",
    "#         for done, target, next_state in zip(dones, targets, next_states)\n",
    "#     ]).unsqueeze(1)\n",
    "\n",
    "#     targets = [\n",
    "#         target if not done else next_state \n",
    "#         for done, target, next_state in zip(dones, targets, next_states)\n",
    "#     ]\n",
    "    \n",
    "#     print(\"final targets shape: \", targets.shape)\n",
    "    \n",
    "    return targets\n",
    "    \n",
    "    \n",
    "    \n",
    "def train(Q, memory, optimizer, batch_size, discount_factor):\n",
    "    # DO NOT MODIFY THIS FUNCTION\n",
    "    \n",
    "    # don't learn without some decent experience\n",
    "    if len(memory) < batch_size:\n",
    "#         print('this is not good:', len(memory), batch_size) # REMOVE THIS LINE\n",
    "        return None\n",
    "#     else:\n",
    "#         print('this is good?', len(memory), batch_size) # REMOVE THIS LINE\n",
    "\n",
    "        \n",
    "    # random transition batch is taken from experience replay memory\n",
    "    transitions = memory.sample(batch_size)\n",
    "    \n",
    "    # transition is a list of 4-tuples, instead we want 4 vectors (as torch.Tensor's)\n",
    "    state, action, reward, next_state, done = zip(*transitions)\n",
    "    \n",
    "    # convert to PyTorch and define types\n",
    "    state = torch.tensor(state, dtype=torch.float)\n",
    "    action = torch.tensor(action, dtype=torch.int64)[:, None]  # Need 64 bit to use them as index\n",
    "    next_state = torch.tensor(next_state, dtype=torch.float)\n",
    "    reward = torch.tensor(reward, dtype=torch.float)[:, None]\n",
    "    done = torch.tensor(done, dtype=torch.uint8)[:, None]  # Boolean\n",
    "    \n",
    "    # compute the q value\n",
    "    q_val = compute_q_vals(Q, state, action)\n",
    "    with torch.no_grad():  # Don't compute gradient info for the target (semi-gradient)\n",
    "        target = compute_targets(Q, reward, next_state, done, discount_factor)\n",
    "    \n",
    "    # loss is measured from error between current and newly expected Q values\n",
    "    loss = F.smooth_l1_loss(q_val, target)\n",
    "\n",
    "    # backpropagation of loss to Neural Network (PyTorch magic)\n",
    "    optimizer.zero_grad()\n",
    "    loss.backward()\n",
    "    optimizer.step()\n",
    "    \n",
    "    return loss.item()  # Returns a Python scalar, and releases history (similar to .detach())"
   ]
  },
  {
   "cell_type": "code",
   "execution_count": 18,
   "metadata": {
    "nbgrader": {
     "grade": false,
     "grade_id": "cell-6c45485324b40081",
     "locked": false,
     "schema_version": 1,
     "solution": true
    }
   },
   "outputs": [
    {
     "name": "stdout",
     "output_type": "stream",
     "text": [
      "0.47794291377067566\n"
     ]
    },
    {
     "name": "stderr",
     "output_type": "stream",
     "text": [
      "C:\\Users\\Elias Dubbeldam\\anaconda3\\envs\\rlcourse\\lib\\site-packages\\ipykernel_launcher.py:111: UserWarning: Creating a tensor from a list of numpy.ndarrays is extremely slow. Please consider converting the list to a single numpy.ndarray with numpy.array() before converting to a tensor. (Triggered internally at  C:\\cb\\pytorch_1000000000000\\work\\torch\\csrc\\utils\\tensor_new.cpp:204.)\n"
     ]
    }
   ],
   "source": [
    "# You may want to test your functions individually, but after you do so lets see if the method train works.\n",
    "batch_size = 64\n",
    "discount_factor = 1.0\n",
    "learn_rate = 1e-3\n",
    "# Simple gradient descent may take long, so we will use Adam\n",
    "optimizer = optim.Adam(Q_net.parameters(), learn_rate)\n",
    "\n",
    "# We need a larger memory, fill with dummy data\n",
    "transition = memory.sample(1)[0]\n",
    "memory = ReplayMemory(10 * batch_size)\n",
    "\n",
    "for i in range(batch_size):\n",
    "    memory.push(transition)\n",
    "\n",
    "# Now let's see if it works\n",
    "loss = train(Q_net, memory, optimizer, batch_size, discount_factor)\n",
    "\n",
    "print(loss)"
   ]
  },
  {
   "cell_type": "markdown",
   "metadata": {
    "nbgrader": {
     "grade": false,
     "grade_id": "cell-3eafd0ab49103f3b",
     "locked": true,
     "schema_version": 1,
     "solution": false
    }
   },
   "source": [
    "### 2.5 Put it all together"
   ]
  },
  {
   "cell_type": "markdown",
   "metadata": {
    "nbgrader": {
     "grade": false,
     "grade_id": "cell-36b8a04b393d8104",
     "locked": true,
     "schema_version": 1,
     "solution": false
    }
   },
   "source": [
    "Now that you have implemented the training step, you should be able to put everything together. Implement the function `run_episodes` that runs a number of episodes of DQN training. It should return the durations (e.g. number of steps) of each episode. Note: we pass the train function as an argument such that we can swap it for a different training step later."
   ]
  },
  {
   "cell_type": "code",
   "execution_count": 19,
   "metadata": {
    "nbgrader": {
     "grade": false,
     "grade_id": "cell-540a7d50ecc1d046",
     "locked": false,
     "schema_version": 1,
     "solution": true
    }
   },
   "outputs": [
    {
     "name": "stdout",
     "output_type": "stream",
     "text": [
      "Appending to dqn_autograde.py\n"
     ]
    }
   ],
   "source": [
    "%%execwritefile -a dqn_autograde.py\n",
    "\n",
    "def run_episodes(train, Q, policy, memory, env, num_episodes, batch_size, discount_factor, learn_rate):\n",
    "    \n",
    "    optimizer = optim.Adam(Q.parameters(), learn_rate)\n",
    "    \n",
    "    global_steps = 0  # Count the steps (do not reset at episode start, to compute epsilon)\n",
    "    episode_durations = []  #\n",
    "    for i in range(num_episodes):\n",
    "        state = env.reset()\n",
    "        \n",
    "        steps = 0\n",
    "        while True:\n",
    "            # YOUR CODE HERE\n",
    "\n",
    "            # We need a larger memory, fill with dummy data\n",
    "#             transition = memory.sample(1)[0]\n",
    "#             memory = ReplayMemory(10 * batch_size)\n",
    "#             for i in range(batch_size):\n",
    "#                 memory.push(transition)  \n",
    "\n",
    "            # Sample a transition\n",
    "            action = policy.sample_action(state)\n",
    "            s_next, r, done, _ = env.step(action)\n",
    "\n",
    "            # Push a transition\n",
    "            memory.push((state, action, r, s_next, done))\n",
    "            \n",
    "            loss = train(Q, memory, optimizer, batch_size, discount_factor)\n",
    "            \n",
    "            # Update epsilon and timesteps\n",
    "            policy.set_epsilon(get_epsilon(global_steps))\n",
    "            global_steps += 1\n",
    "            steps += 1\n",
    "            \n",
    "            # Update state\n",
    "            state = np.copy(s_next)\n",
    "\n",
    "            \n",
    "            if done:\n",
    "                if i % 10 == 0:\n",
    "                    print(\"{2} Episode {0} finished after {1} steps\"\n",
    "                          .format(i, steps, '\\033[92m' if steps >= 195 else '\\033[99m'))\n",
    "                episode_durations.append(steps)\n",
    "#                 episode_durations.append(loss)\n",
    "                #plot_durations()\n",
    "                print(\"loss: \", loss)\n",
    "                break\n",
    "    return episode_durations"
   ]
  },
  {
   "cell_type": "code",
   "execution_count": 20,
   "metadata": {
    "scrolled": true
   },
   "outputs": [
    {
     "name": "stdout",
     "output_type": "stream",
     "text": [
      "\u001b[99m Episode 0 finished after 17 steps\n",
      "loss:  None\n",
      "loss:  None\n",
      "loss:  None\n",
      "loss:  None\n",
      "loss:  0.6185778975486755\n",
      "loss:  0.5594512224197388\n"
     ]
    },
    {
     "name": "stderr",
     "output_type": "stream",
     "text": [
      "C:\\Users\\Elias Dubbeldam\\anaconda3\\envs\\rlcourse\\lib\\site-packages\\ipykernel_launcher.py:57: UserWarning: To copy construct from a tensor, it is recommended to use sourceTensor.clone().detach() or sourceTensor.clone().detach().requires_grad_(True), rather than torch.tensor(sourceTensor).\n"
     ]
    },
    {
     "name": "stdout",
     "output_type": "stream",
     "text": [
      "loss:  0.5294547080993652\n",
      "loss:  0.5071041584014893\n",
      "loss:  0.47420650720596313\n",
      "loss:  0.5329192876815796\n",
      "\u001b[99m Episode 10 finished after 12 steps\n",
      "loss:  0.5708146095275879\n",
      "loss:  0.49284934997558594\n",
      "loss:  0.5414273738861084\n",
      "loss:  1.0137876272201538\n",
      "loss:  1.066219449043274\n",
      "loss:  1.114410161972046\n",
      "loss:  1.126203179359436\n",
      "loss:  1.0974491834640503\n",
      "loss:  1.462714433670044\n",
      "loss:  1.1236234903335571\n",
      "\u001b[99m Episode 20 finished after 15 steps\n",
      "loss:  1.4704914093017578\n",
      "loss:  0.8769898414611816\n",
      "loss:  0.5755082368850708\n",
      "loss:  0.6160507202148438\n",
      "loss:  0.637766420841217\n",
      "loss:  0.7693671584129333\n",
      "loss:  0.34549781680107117\n",
      "loss:  0.14761093258857727\n",
      "loss:  0.49700987339019775\n",
      "loss:  0.18261811137199402\n",
      "\u001b[99m Episode 30 finished after 17 steps\n",
      "loss:  0.36382952332496643\n",
      "loss:  0.24259552359580994\n",
      "loss:  0.28181225061416626\n",
      "loss:  0.3574182987213135\n",
      "loss:  0.30415359139442444\n",
      "loss:  0.1544293463230133\n",
      "loss:  0.1090812236070633\n",
      "loss:  0.2990269064903259\n",
      "loss:  0.32262083888053894\n",
      "loss:  0.16587884724140167\n",
      "\u001b[99m Episode 40 finished after 12 steps\n",
      "loss:  0.20572802424430847\n",
      "loss:  0.21069644391536713\n",
      "loss:  0.20176032185554504\n",
      "loss:  0.18132701516151428\n",
      "loss:  0.2083645761013031\n",
      "loss:  0.046570632606744766\n",
      "loss:  0.0900907963514328\n",
      "loss:  0.08484230935573578\n",
      "loss:  0.15004205703735352\n",
      "loss:  0.09305958449840546\n",
      "\u001b[99m Episode 50 finished after 176 steps\n",
      "loss:  0.07080195099115372\n",
      "loss:  0.129677414894104\n",
      "loss:  0.1116676777601242\n",
      "loss:  0.09043662250041962\n",
      "loss:  0.06714646518230438\n",
      "loss:  0.051126878708601\n",
      "loss:  0.08375126868486404\n",
      "loss:  0.03655776008963585\n",
      "loss:  0.04956641420722008\n",
      "loss:  0.02983780950307846\n",
      "\u001b[92m Episode 60 finished after 201 steps\n",
      "loss:  0.005113284103572369\n",
      "loss:  0.0038099312223494053\n",
      "loss:  0.095640629529953\n",
      "loss:  0.03819736838340759\n",
      "loss:  0.002602494554594159\n",
      "loss:  0.0036314018070697784\n",
      "loss:  0.031356606632471085\n",
      "loss:  0.015321353450417519\n",
      "loss:  0.047314081341028214\n",
      "loss:  0.0026138643734157085\n",
      "\u001b[99m Episode 70 finished after 173 steps\n",
      "loss:  0.002338697202503681\n",
      "loss:  0.0010607661679387093\n",
      "loss:  0.055870603770017624\n",
      "loss:  0.11788022518157959\n",
      "loss:  0.08234933763742447\n",
      "loss:  0.004113620612770319\n",
      "loss:  0.0018587859813123941\n",
      "loss:  0.06483319401741028\n",
      "loss:  0.05358819663524628\n",
      "loss:  0.02929840423166752\n",
      "\u001b[99m Episode 80 finished after 153 steps\n",
      "loss:  0.003133240854367614\n",
      "loss:  0.050319574773311615\n",
      "loss:  0.0016061654314398766\n",
      "loss:  0.09233804047107697\n",
      "loss:  0.011609726585447788\n",
      "loss:  0.04903204366564751\n",
      "loss:  0.0014569970080628991\n",
      "loss:  0.05010324716567993\n",
      "loss:  0.048744086176157\n",
      "loss:  0.0008982013678178191\n",
      "\u001b[99m Episode 90 finished after 179 steps\n",
      "loss:  0.09065522253513336\n",
      "loss:  0.04542185366153717\n",
      "loss:  0.0023703405167907476\n",
      "loss:  0.0010300735011696815\n",
      "loss:  0.0010748434578999877\n",
      "loss:  0.001235094852745533\n",
      "loss:  0.0004337418358772993\n",
      "loss:  0.0006036728154867887\n",
      "loss:  0.00037538137985393405\n",
      "loss:  0.0004385203355923295\n",
      "\u001b[99m Episode 100 finished after 186 steps\n",
      "loss:  0.09080193936824799\n",
      "loss:  0.05470879748463631\n",
      "loss:  0.0010211593471467495\n",
      "loss:  0.0006942045292817056\n",
      "loss:  0.00039596029091626406\n",
      "loss:  0.0009732269099913538\n",
      "loss:  0.0007343422621488571\n",
      "loss:  0.03741154819726944\n",
      "loss:  0.000443391123553738\n",
      "loss:  0.0003735470527317375\n",
      "\u001b[92m Episode 110 finished after 277 steps\n",
      "loss:  0.000816166924778372\n",
      "loss:  0.0013355690753087401\n",
      "loss:  0.0009695080225355923\n",
      "loss:  0.08171657472848892\n",
      "loss:  0.0003241423110011965\n",
      "loss:  0.04148285835981369\n",
      "loss:  0.048240527510643005\n",
      "loss:  0.0005255693104118109\n",
      "loss:  0.046194590628147125\n",
      "loss:  0.0007003885693848133\n",
      "\u001b[99m Episode 120 finished after 163 steps\n",
      "loss:  0.0004401825135573745\n",
      "loss:  0.0005189527873881161\n",
      "loss:  0.001173393800854683\n",
      "loss:  0.0007366824429482222\n",
      "loss:  0.0007462698267772794\n",
      "loss:  0.0002575013495516032\n",
      "loss:  0.04583705589175224\n",
      "loss:  0.0007096107583492994\n",
      "loss:  0.0010785266058519483\n",
      "loss:  0.0008127299370244145\n",
      "\u001b[92m Episode 130 finished after 196 steps\n",
      "loss:  0.0006766024162061512\n",
      "loss:  0.0016536104958504438\n",
      "loss:  0.0007778778090141714\n",
      "loss:  0.002935773693025112\n",
      "loss:  0.0016520839417353272\n",
      "loss:  0.0003763866552617401\n",
      "loss:  0.04462868720293045\n",
      "loss:  0.0009478322463110089\n",
      "loss:  0.03393865004181862\n",
      "loss:  0.031822364777326584\n",
      "\u001b[92m Episode 140 finished after 209 steps\n",
      "loss:  0.0007577930227853358\n",
      "loss:  0.00042330677388235927\n",
      "loss:  0.0003624882665462792\n",
      "loss:  0.00042781539377756417\n",
      "loss:  0.029487626627087593\n",
      "loss:  0.003076243679970503\n",
      "loss:  0.0012180845951661468\n",
      "loss:  0.0007647461025044322\n",
      "loss:  0.00030255012097768486\n",
      "loss:  0.0004751304804813117\n",
      "\u001b[92m Episode 150 finished after 298 steps\n",
      "loss:  0.00041529283043928444\n",
      "loss:  0.0006957531441003084\n",
      "loss:  0.00017634878167882562\n",
      "loss:  0.001159059233032167\n",
      "loss:  0.03821271285414696\n",
      "loss:  0.00020500386017374694\n",
      "loss:  0.001591583015397191\n",
      "loss:  0.0008432735339738429\n",
      "loss:  0.001054134452715516\n",
      "loss:  0.0005052706110291183\n",
      "\u001b[92m Episode 160 finished after 226 steps\n",
      "loss:  0.00074483931530267\n",
      "loss:  0.04901272431015968\n",
      "loss:  0.0018997712759301066\n",
      "loss:  0.0008803196833468974\n",
      "loss:  0.06157981604337692\n",
      "loss:  0.0006907747592777014\n",
      "loss:  0.001992441713809967\n",
      "loss:  0.001420599757693708\n",
      "loss:  0.001298721181228757\n",
      "loss:  0.00042996203410439193\n",
      "\u001b[99m Episode 170 finished after 149 steps\n",
      "loss:  0.000429621955845505\n",
      "loss:  0.0004746320773847401\n",
      "loss:  0.00031678934465162456\n",
      "loss:  0.0004115350020583719\n",
      "loss:  0.0013787630014121532\n",
      "loss:  0.001786838169209659\n",
      "loss:  0.0013059404445812106\n",
      "loss:  0.0005317055038176477\n",
      "loss:  0.00022173105389811099\n",
      "loss:  0.0005422285757958889\n",
      "\u001b[92m Episode 180 finished after 247 steps\n",
      "loss:  0.043125856667757034\n",
      "loss:  0.03721734136343002\n",
      "loss:  0.03873607516288757\n",
      "loss:  0.00034499354660511017\n",
      "loss:  0.0002462085976731032\n",
      "loss:  0.030567103996872902\n",
      "loss:  0.0014292499981820583\n",
      "loss:  0.0006741487304680049\n",
      "loss:  0.0007921638898551464\n",
      "loss:  0.0012876566033810377\n",
      "\u001b[92m Episode 190 finished after 258 steps\n",
      "loss:  0.000325229688314721\n",
      "loss:  0.0008158345008268952\n",
      "loss:  0.03955980762839317\n",
      "loss:  0.0004481746000237763\n",
      "loss:  0.02717423252761364\n",
      "loss:  0.00025539309717714787\n",
      "loss:  0.0009143825154751539\n",
      "loss:  0.0005621518939733505\n",
      "loss:  0.0004541546804830432\n",
      "loss:  0.05067706108093262\n",
      "\u001b[92m Episode 200 finished after 199 steps\n",
      "loss:  0.0015675327740609646\n",
      "loss:  0.034029219299554825\n",
      "loss:  0.0004457979230210185\n",
      "loss:  0.0002677951124496758\n",
      "loss:  0.0007658053655177355\n",
      "loss:  0.0004149251617491245\n",
      "loss:  0.0016240545082837343\n",
      "loss:  0.03957909718155861\n",
      "loss:  0.00015422850265167654\n",
      "loss:  0.0009229446295648813\n",
      "\u001b[99m Episode 210 finished after 45 steps\n",
      "loss:  0.04279516637325287\n",
      "loss:  0.0003810971975326538\n",
      "loss:  0.025020761415362358\n",
      "loss:  0.02400786243379116\n",
      "loss:  0.0006650437135249376\n",
      "loss:  0.0008435056661255658\n",
      "loss:  0.00037036434514448047\n",
      "loss:  0.0332474410533905\n",
      "loss:  0.0007572188042104244\n",
      "loss:  0.000321974657708779\n",
      "\u001b[92m Episode 220 finished after 282 steps\n",
      "loss:  0.0003908117942046374\n",
      "loss:  0.0008121407590806484\n",
      "loss:  0.02509497106075287\n",
      "loss:  0.0008810570579953492\n",
      "loss:  0.0002426054561510682\n",
      "loss:  0.0019411947578191757\n",
      "loss:  0.045533549040555954\n",
      "loss:  0.0005477830418385565\n",
      "loss:  0.0006737743387930095\n",
      "loss:  0.0003148541145492345\n",
      "\u001b[92m Episode 230 finished after 311 steps\n",
      "loss:  0.00036775326589122415\n",
      "loss:  0.0025238217785954475\n",
      "loss:  0.04492944851517677\n",
      "loss:  0.0007852615090087056\n",
      "loss:  0.001355431624688208\n",
      "loss:  0.00040959028410725296\n",
      "loss:  0.00028962851502001286\n",
      "loss:  0.0012323262635618448\n",
      "loss:  0.04984356835484505\n",
      "loss:  0.0010232736822217703\n",
      "\u001b[99m Episode 240 finished after 101 steps\n",
      "loss:  0.003868549596518278\n",
      "loss:  0.0014609727077186108\n",
      "loss:  0.0006163929938338697\n",
      "loss:  0.0005873208865523338\n",
      "loss:  0.0007741571171209216\n",
      "loss:  0.016915617510676384\n",
      "loss:  0.001896366709843278\n",
      "loss:  0.03156488388776779\n",
      "loss:  0.0006604843656532466\n",
      "loss:  0.0008258121088147163\n",
      "\u001b[92m Episode 250 finished after 362 steps\n",
      "loss:  0.00033789555891416967\n",
      "loss:  0.0005958429537713528\n",
      "loss:  0.00042106868932023644\n",
      "loss:  0.016475919634103775\n",
      "loss:  0.0003923249605577439\n",
      "loss:  0.0009182869689539075\n",
      "loss:  0.005795266944915056\n",
      "loss:  0.00011797837942140177\n",
      "loss:  0.0008569482015445828\n",
      "loss:  0.00227170973084867\n",
      "\u001b[99m Episode 260 finished after 33 steps\n",
      "loss:  0.002715429523959756\n"
     ]
    },
    {
     "name": "stdout",
     "output_type": "stream",
     "text": [
      "loss:  0.0009002296137623489\n",
      "loss:  0.016802117228507996\n",
      "loss:  0.005247728433459997\n",
      "loss:  0.00036951585207134485\n",
      "loss:  0.0012468694476410747\n",
      "loss:  0.013569138012826443\n",
      "loss:  0.032719459384679794\n",
      "loss:  0.008763273246586323\n",
      "loss:  0.0012441017897799611\n",
      "\u001b[92m Episode 270 finished after 326 steps\n",
      "loss:  0.03581957146525383\n",
      "loss:  0.007106196600943804\n",
      "loss:  0.0014773756265640259\n",
      "loss:  0.0001919622882269323\n",
      "loss:  0.034736037254333496\n",
      "loss:  0.0013029580004513264\n",
      "loss:  0.0003978843742515892\n",
      "loss:  0.0010350598022341728\n",
      "loss:  0.000371122412616387\n",
      "loss:  0.000493107654619962\n",
      "\u001b[99m Episode 280 finished after 11 steps\n",
      "loss:  0.03236781060695648\n",
      "loss:  0.0016275335801765323\n",
      "loss:  0.020020706579089165\n",
      "loss:  0.0007040007621981204\n",
      "loss:  0.00024516345001757145\n",
      "loss:  0.0005323173827491701\n",
      "loss:  0.001990928314626217\n",
      "loss:  0.00036117032868787646\n",
      "loss:  0.0005732888239435852\n",
      "loss:  0.0005027588922530413\n",
      "\u001b[92m Episode 290 finished after 291 steps\n",
      "loss:  0.00032146164448931813\n",
      "loss:  0.0006422504666261375\n",
      "loss:  0.02254815585911274\n",
      "loss:  0.0004791218088939786\n",
      "loss:  0.022460898384451866\n",
      "loss:  0.0008062681881710887\n",
      "loss:  0.02772865816950798\n",
      "loss:  0.0012755760690197349\n",
      "loss:  0.0003982515772804618\n",
      "loss:  0.0014829530846327543\n",
      "\u001b[92m Episode 300 finished after 214 steps\n",
      "loss:  0.004639442544430494\n",
      "loss:  0.0008865368436090648\n",
      "loss:  0.0005600869772024453\n",
      "loss:  0.00018024645396508276\n",
      "loss:  0.00029662426095455885\n",
      "loss:  0.0010636370861902833\n",
      "loss:  0.009270875714719296\n",
      "loss:  0.0012874656822532415\n",
      "loss:  0.018295349553227425\n",
      "loss:  0.0009617211762815714\n",
      "\u001b[99m Episode 310 finished after 182 steps\n",
      "loss:  9.92281929939054e-05\n",
      "loss:  0.0001958467619260773\n",
      "loss:  0.001016153022646904\n",
      "loss:  0.003995425067842007\n",
      "loss:  0.0008252662955783308\n",
      "loss:  0.00031514567672275007\n",
      "loss:  0.0017924167914316058\n",
      "loss:  0.002117045223712921\n",
      "loss:  0.0006553393322974443\n",
      "loss:  0.0020218631252646446\n",
      "\u001b[99m Episode 320 finished after 169 steps\n",
      "loss:  0.00098322459962219\n",
      "loss:  0.00011923936835955828\n",
      "loss:  0.009681444615125656\n",
      "loss:  0.0006071674288250506\n",
      "loss:  0.002522689290344715\n",
      "loss:  0.00047784927301108837\n",
      "loss:  0.0011870850576087832\n",
      "loss:  0.0002162319578928873\n",
      "loss:  0.0004337030404713005\n",
      "loss:  0.0004394740390125662\n",
      "\u001b[92m Episode 330 finished after 265 steps\n",
      "loss:  0.0009875220712274313\n",
      "loss:  0.01341649517416954\n",
      "loss:  0.0001352938706986606\n",
      "loss:  0.011225229129195213\n",
      "loss:  0.0007823335472494364\n",
      "loss:  0.003202954074367881\n",
      "loss:  0.0008264036732725799\n",
      "loss:  0.000808405689895153\n",
      "loss:  0.000386469648219645\n",
      "loss:  0.0029521090909838676\n",
      "\u001b[92m Episode 340 finished after 205 steps\n",
      "loss:  0.012420362792909145\n",
      "loss:  0.009722724556922913\n",
      "loss:  0.0001557886425871402\n",
      "loss:  0.005096280016005039\n",
      "loss:  0.0002875930513255298\n",
      "loss:  0.00016663213318679482\n",
      "loss:  0.0005806661210954189\n",
      "loss:  0.0004963988321833313\n",
      "loss:  0.03568973019719124\n",
      "loss:  0.0005186117487028241\n",
      "\u001b[99m Episode 350 finished after 155 steps\n",
      "loss:  0.016910918056964874\n",
      "loss:  0.016651470214128494\n",
      "loss:  0.007059092167764902\n",
      "loss:  0.0008752999710850418\n",
      "loss:  0.0005124646704643965\n",
      "loss:  0.0016064204974099994\n",
      "loss:  0.00017777954053599387\n",
      "loss:  0.00045690039405599236\n",
      "loss:  0.0016837615985423326\n",
      "loss:  0.00027163189952261746\n",
      "\u001b[99m Episode 360 finished after 184 steps\n",
      "loss:  0.0009667164413258433\n",
      "loss:  0.01026475802063942\n",
      "loss:  0.045241158455610275\n",
      "loss:  0.020606888458132744\n",
      "loss:  0.0003776575322262943\n",
      "loss:  0.05613894760608673\n",
      "loss:  0.00023511992185376585\n",
      "loss:  0.0007500633364543319\n",
      "loss:  0.0004134223563596606\n",
      "loss:  0.0012154629221186042\n",
      "\u001b[99m Episode 370 finished after 155 steps\n",
      "loss:  0.0003666686243377626\n",
      "loss:  0.00045676311128772795\n",
      "loss:  0.0019983388483524323\n",
      "loss:  0.039863355457782745\n",
      "loss:  0.00045255853910930455\n",
      "loss:  0.0003311453911010176\n",
      "loss:  0.009199627675116062\n",
      "loss:  0.0016395571874454618\n",
      "loss:  0.00043759390246123075\n",
      "loss:  0.000568720162846148\n",
      "\u001b[92m Episode 380 finished after 257 steps\n",
      "loss:  0.001030159997753799\n",
      "loss:  0.0005443401751108468\n",
      "loss:  0.0014536058297380805\n",
      "loss:  0.00017975069931708276\n",
      "loss:  0.00020186400797683746\n",
      "loss:  0.005418427754193544\n",
      "loss:  0.06168840825557709\n",
      "loss:  0.0006798479007557034\n",
      "loss:  0.0003539390745572746\n",
      "loss:  0.00036194417043589056\n",
      "\u001b[92m Episode 390 finished after 358 steps\n",
      "loss:  0.00041586311999708414\n",
      "loss:  0.0003234972828067839\n",
      "loss:  0.0020343258511275053\n",
      "loss:  0.0003002458834089339\n",
      "loss:  0.0006180700147524476\n",
      "loss:  0.00015040086873341352\n",
      "loss:  0.0026080391835421324\n",
      "loss:  0.0010593304177746177\n",
      "loss:  0.0005421998212113976\n",
      "loss:  0.036488234996795654\n",
      "\u001b[92m Episode 400 finished after 500 steps\n",
      "loss:  0.01889166794717312\n",
      "loss:  0.001025229343213141\n",
      "loss:  0.00012602904462255538\n",
      "loss:  0.001468908740207553\n",
      "loss:  0.0009593864670023322\n",
      "loss:  0.00026882177917286754\n",
      "loss:  0.00020377468899823725\n",
      "loss:  0.0007701951544731855\n",
      "loss:  0.00020168715855106711\n",
      "loss:  0.00038189024780876935\n",
      "\u001b[92m Episode 410 finished after 436 steps\n",
      "loss:  0.0012968204682692885\n",
      "loss:  0.0001245676539838314\n",
      "loss:  0.0006780439289286733\n",
      "loss:  0.000990885542705655\n",
      "loss:  0.0014522934798151255\n",
      "loss:  0.004905690439045429\n",
      "loss:  0.00043580259080044925\n",
      "loss:  0.0003159224579576403\n",
      "loss:  0.0942411944270134\n",
      "loss:  0.0004047045949846506\n",
      "\u001b[99m Episode 420 finished after 167 steps\n",
      "loss:  0.003862532787024975\n",
      "loss:  0.0002460381656419486\n",
      "loss:  0.0015167936217039824\n",
      "loss:  0.0006071572424843907\n",
      "loss:  0.004043554421514273\n",
      "loss:  0.0008948466856963933\n",
      "loss:  0.0006059077568352222\n",
      "loss:  0.0005998713313601911\n",
      "loss:  0.0002771016152109951\n",
      "loss:  0.0008948954637162387\n",
      "\u001b[92m Episode 430 finished after 474 steps\n",
      "loss:  0.0004021371714770794\n",
      "loss:  0.048193663358688354\n",
      "loss:  0.05543310567736626\n",
      "loss:  0.00020427988783922046\n",
      "loss:  0.07942310720682144\n",
      "loss:  0.0003786479646805674\n",
      "loss:  0.0005278254393488169\n",
      "loss:  0.00011289311805739999\n",
      "loss:  0.01056043989956379\n",
      "loss:  0.001040829112753272\n",
      "\u001b[92m Episode 440 finished after 201 steps\n",
      "loss:  0.00040210410952568054\n",
      "loss:  0.08466902375221252\n",
      "loss:  0.0015605892986059189\n",
      "loss:  0.000164421449881047\n",
      "loss:  0.00031211707391776145\n",
      "loss:  0.005355901084840298\n",
      "loss:  0.00013788838987238705\n",
      "loss:  0.0003945425560232252\n",
      "loss:  0.0010728304041549563\n",
      "loss:  9.856562246568501e-05\n",
      "\u001b[92m Episode 450 finished after 266 steps\n",
      "loss:  0.005166569724678993\n",
      "loss:  0.0007100597722455859\n",
      "loss:  0.00046759279211983085\n",
      "loss:  0.0005118097760714591\n",
      "loss:  0.0001816057483665645\n",
      "loss:  0.0002681237820070237\n",
      "loss:  0.0001328559301327914\n",
      "loss:  0.030363889411091805\n",
      "loss:  0.06252627074718475\n",
      "loss:  0.001806852058507502\n",
      "\u001b[92m Episode 460 finished after 500 steps\n",
      "loss:  0.00024180294713005424\n",
      "loss:  0.02742479182779789\n",
      "loss:  0.00014112352801021188\n",
      "loss:  0.00012161032645963132\n",
      "loss:  0.0009893057867884636\n",
      "loss:  0.00043160520726814866\n",
      "loss:  0.0014436981873586774\n",
      "loss:  3.7632256862707436e-05\n",
      "loss:  9.601606871001422e-05\n",
      "loss:  0.00018649482808541507\n",
      "\u001b[99m Episode 470 finished after 124 steps\n",
      "loss:  0.06719048321247101\n",
      "loss:  4.747396451421082e-05\n",
      "loss:  0.000754654174670577\n",
      "loss:  0.00022796956181991845\n",
      "loss:  0.00015341419202741235\n",
      "loss:  0.0001799011806724593\n",
      "loss:  8.288705430459231e-05\n",
      "loss:  4.37965827586595e-05\n",
      "loss:  0.0011703422060236335\n",
      "loss:  0.00042249864782206714\n",
      "\u001b[99m Episode 480 finished after 13 steps\n",
      "loss:  0.0002515492378734052\n",
      "loss:  0.0001940803340403363\n",
      "loss:  0.042051393538713455\n",
      "loss:  0.025318335741758347\n",
      "loss:  0.00014809533604420722\n",
      "loss:  0.00012387699098326266\n",
      "loss:  9.296205098507926e-05\n",
      "loss:  4.124745828448795e-05\n",
      "loss:  0.00018541596364229918\n",
      "loss:  0.0001163351844297722\n",
      "\u001b[99m Episode 490 finished after 170 steps\n",
      "loss:  0.04058753699064255\n",
      "loss:  0.0026682857424020767\n",
      "loss:  0.0003965428622905165\n",
      "loss:  0.0002180145966121927\n",
      "loss:  0.0001520887017250061\n",
      "loss:  0.0004971830057911575\n",
      "loss:  0.0003021814627572894\n",
      "loss:  0.00042335118632763624\n",
      "loss:  0.00051795260515064\n",
      "loss:  0.0005262279883027077\n"
     ]
    }
   ],
   "source": [
    "# Let's run it!\n",
    "num_episodes = 500\n",
    "batch_size = 64\n",
    "discount_factor = 0.8\n",
    "learn_rate = 1e-3\n",
    "memory = ReplayMemory(10000)\n",
    "num_hidden = 128\n",
    "seed = 42  # This is not randomly chosen\n",
    "\n",
    "# We will seed the algorithm (before initializing QNetwork!) for reproducibility\n",
    "random.seed(seed)\n",
    "torch.manual_seed(seed)\n",
    "env.seed(seed)\n",
    "\n",
    "Q_net = QNetwork(num_hidden)\n",
    "policy = EpsilonGreedyPolicy(Q_net, 0.05)\n",
    "episode_durations = run_episodes(train, Q_net, policy, memory, env, num_episodes, batch_size, discount_factor, learn_rate)"
   ]
  },
  {
   "cell_type": "code",
   "execution_count": 21,
   "metadata": {
    "nbgrader": {
     "grade": true,
     "grade_id": "cell-928ecc11ed5c43d8",
     "locked": true,
     "points": 2,
     "schema_version": 1,
     "solution": false
    }
   },
   "outputs": [
    {
     "data": {
      "text/plain": [
       "Text(0.5, 1.0, 'Episode durations per episode')"
      ]
     },
     "execution_count": 21,
     "metadata": {},
     "output_type": "execute_result"
    },
    {
     "data": {
      "image/png": "[encoded data removed]",
      "text/plain": [
       "<Figure size 640x480 with 1 Axes>"
      ]
     },
     "metadata": {},
     "output_type": "display_data"
    }
   ],
   "source": [
    "# And see the results\n",
    "def smooth(x, N):\n",
    "    cumsum = np.cumsum(np.insert(x, 0, 0)) \n",
    "    return (cumsum[N:] - cumsum[:-N]) / float(N)\n",
    "\n",
    "plt.plot(smooth(episode_durations[3:], 10))\n",
    "plt.title('Episode durations per episode')"
   ]
  },
  {
   "cell_type": "markdown",
   "metadata": {},
   "source": [
    "If you want to test/submit your solution **restart the kernel, run all cells and submit the dqn_autograde.py file into codegrade.**"
   ]
  },
  {
   "cell_type": "code",
   "execution_count": null,
   "metadata": {},
   "outputs": [],
   "source": []
  },
  {
   "cell_type": "code",
   "execution_count": null,
   "metadata": {},
   "outputs": [],
   "source": []
  }
 ],
 "metadata": {
  "celltoolbar": "Create Assignment",
  "kernelspec": {
   "display_name": "Python 3 (ipykernel)",
   "language": "python",
   "name": "python3"
  },
  "language_info": {
   "codemirror_mode": {
    "name": "ipython",
    "version": 3
   },
   "file_extension": ".py",
   "mimetype": "text/x-python",
   "name": "python",
   "nbconvert_exporter": "python",
   "pygments_lexer": "ipython3",
   "version": "3.7.13"
  }
 },
 "nbformat": 4,
 "nbformat_minor": 2
}
